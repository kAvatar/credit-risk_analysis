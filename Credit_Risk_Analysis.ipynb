{
  "nbformat": 4,
  "nbformat_minor": 0,
  "metadata": {
    "kernelspec": {
      "display_name": "Python 3",
      "language": "python",
      "name": "python3"
    },
    "language_info": {
      "codemirror_mode": {
        "name": "ipython",
        "version": 3
      },
      "file_extension": ".py",
      "mimetype": "text/x-python",
      "name": "python",
      "nbconvert_exporter": "python",
      "pygments_lexer": "ipython3",
      "version": "3.6.5"
    },
    "colab": {
      "name": "Credit Risk Analysis",
      "provenance": [],
      "collapsed_sections": [
        "L5va2i1x9_HJ",
        "kz7ovRrw9_HK",
        "AMROAGqh9_HT",
        "lj1xS_1M9_HW",
        "fy2TYdQk9_Hi",
        "sQRZpt3u9_Hn",
        "YxcvSU5L9_H-",
        "Aj9T8ydM9_JX",
        "OSn-CSp99_JY",
        "9NWRmn8g9_Jq",
        "8u-CS2O69_J-",
        "6uj1R75m9_KC"
      ],
      "toc_visible": true
    }
  },
  "cells": [
    {
      "cell_type": "markdown",
      "metadata": {
        "id": "wvvt787j9_Gx",
        "colab_type": "text"
      },
      "source": [
        "# Credit Risk Analysis\n",
        "Credit scores are essential for credit granting and financial institutions to decide whether or not give credit to someone.In this analysis, we  experiment on  features and develop a scorecard , which can be used not only to identify High risk customers and but also to minimize further risks."
      ]
    },
    {
      "cell_type": "code",
      "metadata": {
        "id": "GSJbgsAj-aT6",
        "colab_type": "code",
        "colab": {}
      },
      "source": [
        "# from google.colab import drive\n",
        "# drive.mount('/content/drive')"
      ],
      "execution_count": 0,
      "outputs": []
    },
    {
      "cell_type": "markdown",
      "metadata": {
        "id": "TCR6FWl59_Gy",
        "colab_type": "text"
      },
      "source": [
        "#### Importing libraries"
      ]
    },
    {
      "cell_type": "code",
      "metadata": {
        "scrolled": true,
        "id": "rDfI3aXA9_Gz",
        "colab_type": "code",
        "colab": {}
      },
      "source": [
        "import csv\n",
        "import pandas as pd #data preprocessing\n",
        "import numpy as np #linear algebra\n",
        "import seaborn as sns\n",
        "import matplotlib.pyplot as plt\n",
        "from IPython.display  import display\n",
        "pd.options.display.max_columns=None\n",
        "%matplotlib inline\n",
        "from sklearn import preprocessing \n",
        "from sklearn.decomposition import PCA # used for dimension reduction\n",
        "import math  # for log function\n",
        "from sklearn.metrics import accuracy_score\n",
        "\n",
        "import warnings\n",
        "warnings.filterwarnings('ignore')\n",
        "\n",
        "sns.set( palette='deep')"
      ],
      "execution_count": 0,
      "outputs": []
    },
    {
      "cell_type": "markdown",
      "metadata": {
        "id": "XJMgoI-p9_G1",
        "colab_type": "text"
      },
      "source": [
        "## 1. DATA IMPORT"
      ]
    },
    {
      "cell_type": "markdown",
      "metadata": {
        "id": "iG6I75T59_G2",
        "colab_type": "text"
      },
      "source": [
        "#### Loading Input Files\n",
        "Loading 3 input files dropping the indexes, "
      ]
    },
    {
      "cell_type": "code",
      "metadata": {
        "id": "AimZCCGP9_G2",
        "colab_type": "code",
        "outputId": "7d4097d1-23ce-49f0-fcf9-bf61fed4bbe9",
        "colab": {}
      },
      "source": [
        "Borrower=pd.read_csv('Borrower Information.csv').drop('Unnamed: 0', axis = 1)\n",
        "print('The Borrower File contains ',Borrower.shape[0],' rows and ',Borrower.shape[1],' columns')"
      ],
      "execution_count": 0,
      "outputs": [
        {
          "output_type": "stream",
          "text": [
            "The Borrower File contains  887379  rows and  13  columns\n"
          ],
          "name": "stdout"
        }
      ]
    },
    {
      "cell_type": "code",
      "metadata": {
        "id": "6YKjMUfx9_G6",
        "colab_type": "code",
        "outputId": "ddd9bab5-4c6e-4d8a-dd49-83b5e42c15a1",
        "colab": {}
      },
      "source": [
        "Loan_classification=pd.read_csv(\"Loan Classification Information.csv\").drop('Unnamed: 0', axis = 1)\n",
        "print('The Loan_classification File contains ',Loan_classification.shape[0],' rows and ',Loan_classification.shape[1],' columns')"
      ],
      "execution_count": 0,
      "outputs": [
        {
          "output_type": "stream",
          "text": [
            "The Loan_classification File contains  887379  rows and  17  columns\n"
          ],
          "name": "stdout"
        }
      ]
    },
    {
      "cell_type": "code",
      "metadata": {
        "id": "vhZvckr79_G8",
        "colab_type": "code",
        "outputId": "f4dc465a-a755-45bf-fb23-67823e125179",
        "colab": {}
      },
      "source": [
        "Loan_payment=pd.read_csv('Loan Payment Information.csv').drop('Unnamed: 0', axis = 1)\n",
        "print('The Loan_payment File contains ',Loan_payment.shape[0],' rows and ',Loan_payment.shape[1],' columns')"
      ],
      "execution_count": 0,
      "outputs": [
        {
          "output_type": "stream",
          "text": [
            "The Loan_payment File contains  887379  rows and  40  columns\n"
          ],
          "name": "stdout"
        }
      ]
    },
    {
      "cell_type": "markdown",
      "metadata": {
        "id": "U7-3Mv2p9_G9",
        "colab_type": "text"
      },
      "source": [
        "####  Duplicate check \n",
        "\n",
        "\n",
        "\n",
        "Duplicate check implemented on all input files, No Duplicates found ."
      ]
    },
    {
      "cell_type": "code",
      "metadata": {
        "id": "Jyrldijx9_G-",
        "colab_type": "code",
        "outputId": "1c5ec75b-cc07-4889-dcfb-2c7bf3e7d074",
        "colab": {}
      },
      "source": [
        "# Borrower[Borrower['member_id'].duplicated() == True]\n",
        "print(Borrower.duplicated().sum(), 'duplicates found in Borrower')"
      ],
      "execution_count": 0,
      "outputs": [
        {
          "output_type": "stream",
          "text": [
            "0 duplicates found in Borrower\n"
          ],
          "name": "stdout"
        }
      ]
    },
    {
      "cell_type": "code",
      "metadata": {
        "scrolled": true,
        "id": "oR5P1kWk9_HB",
        "colab_type": "code",
        "outputId": "985f5b2b-93d7-452e-f895-582d42958881",
        "colab": {}
      },
      "source": [
        "# Loan_classification[Loan_classification['id'].duplicated() == True].count()\n",
        "print(Loan_classification.duplicated().sum(), 'duplicates found in Loan_classification')"
      ],
      "execution_count": 0,
      "outputs": [
        {
          "output_type": "stream",
          "text": [
            "0 duplicates found in Loan_classification\n"
          ],
          "name": "stdout"
        }
      ]
    },
    {
      "cell_type": "code",
      "metadata": {
        "id": "4hp9--Fo9_HD",
        "colab_type": "code",
        "outputId": "6fd3ef29-73e1-46af-bb91-6aebc49e536f",
        "colab": {}
      },
      "source": [
        "# Loan_payment[Loan_payment['id'].duplicated() == True].count()\n",
        "print(Loan_payment.duplicated().sum(), 'duplicates found in Loan_payment')"
      ],
      "execution_count": 0,
      "outputs": [
        {
          "output_type": "stream",
          "text": [
            "0 duplicates found in Loan_payment\n"
          ],
          "name": "stdout"
        }
      ]
    },
    {
      "cell_type": "markdown",
      "metadata": {
        "id": "Y1oDxxrE9_HF",
        "colab_type": "text"
      },
      "source": [
        "####  Merge \n",
        "Let's merge these three files.\n",
        "\n",
        "Borrower contains information about Customer with 'Member_id'\n",
        "\n",
        "Load_classification contains information about loans with 'id' wrt customer' Member_id'\n",
        "\n",
        "Loan_payment contains information about payment wrt loan 'id'"
      ]
    },
    {
      "cell_type": "code",
      "metadata": {
        "id": "2ApBLNhU9_HF",
        "colab_type": "code",
        "colab": {}
      },
      "source": [
        "Borrower_Loan= pd.merge(Borrower, Loan_classification, on='member_id')"
      ],
      "execution_count": 0,
      "outputs": []
    },
    {
      "cell_type": "code",
      "metadata": {
        "id": "fVBmVPJu9_HH",
        "colab_type": "code",
        "colab": {}
      },
      "source": [
        "Borrower_Loan_payment= pd.merge(Borrower_Loan, Loan_payment, on='id')"
      ],
      "execution_count": 0,
      "outputs": []
    },
    {
      "cell_type": "markdown",
      "metadata": {
        "id": "e_uCvIuy9_HJ",
        "colab_type": "text"
      },
      "source": [
        "The merged file is ready with 887379 records with 68 columns .Column datatypes are integer, float and object."
      ]
    },
    {
      "cell_type": "markdown",
      "metadata": {
        "id": "L5va2i1x9_HJ",
        "colab_type": "text"
      },
      "source": [
        "## 2. DATA ANALYSIS"
      ]
    },
    {
      "cell_type": "markdown",
      "metadata": {
        "id": "kz7ovRrw9_HK",
        "colab_type": "text"
      },
      "source": [
        "####  Missing Values"
      ]
    },
    {
      "cell_type": "markdown",
      "metadata": {
        "id": "kWWq47G89_HK",
        "colab_type": "text"
      },
      "source": [
        "We have seen that out dataset contains many null values and it is difficult to maintain big dataframe for better visualization and developement.Probably there are many columns that have more than 50% null values.\n",
        "\n",
        "Below, We can find the columns that have more than 80% null values in them.\n",
        "If there are any columns like those, then that means that the contribution of those columns in the Value of the model will be extremely low.And it will be better to drop them.Let's take a look.\n"
      ]
    },
    {
      "cell_type": "code",
      "metadata": {
        "id": "R6OG8FRo9_HL",
        "colab_type": "code",
        "colab": {}
      },
      "source": [
        "pct_null = Borrower_Loan_payment.isnull().sum() / len(Borrower_Loan_payment)\n",
        "Features_withNull = pct_null[pct_null > 0.84].index"
      ],
      "execution_count": 0,
      "outputs": []
    },
    {
      "cell_type": "code",
      "metadata": {
        "id": "93b7lvum9_HN",
        "colab_type": "code",
        "outputId": "51b03c77-a4b3-4185-d5e9-24e43eeec276",
        "colab": {}
      },
      "source": [
        "print(len(Features_withNull), 'columns having more than 84% NULL values in them \\n')\n",
        "Features_withNull\n"
      ],
      "execution_count": 0,
      "outputs": [
        {
          "output_type": "stream",
          "text": [
            "18 columns having more than 84% NULL values in them \n",
            "\n"
          ],
          "name": "stdout"
        },
        {
          "output_type": "execute_result",
          "data": {
            "text/plain": [
              "Index(['annual_inc_joint', 'desc', 'mths_since_last_record', 'dti_joint',\n",
              "       'open_acc_6m', 'open_il_6m', 'open_il_12m', 'open_il_24m',\n",
              "       'mths_since_rcnt_il', 'total_bal_il', 'il_util', 'open_rv_12m',\n",
              "       'open_rv_24m', 'max_bal_bc', 'all_util', 'inq_fi', 'total_cu_tl',\n",
              "       'inq_last_12m'],\n",
              "      dtype='object')"
            ]
          },
          "metadata": {
            "tags": []
          },
          "execution_count": 70
        }
      ]
    },
    {
      "cell_type": "code",
      "metadata": {
        "id": "_3eZNk4H9_HP",
        "colab_type": "code",
        "outputId": "0dc6b6b8-9aa8-4bdb-b3ae-a3e212b2e2a2",
        "colab": {}
      },
      "source": [
        "print('Dropping the above mentioned Irrelevant columns')\n",
        "Borrower_Loan_payment.drop(Features_withNull,axis=1,inplace=True)"
      ],
      "execution_count": 0,
      "outputs": [
        {
          "output_type": "stream",
          "text": [
            "Dropping the above mentioned Irrelevant columns\n"
          ],
          "name": "stdout"
        }
      ]
    },
    {
      "cell_type": "markdown",
      "metadata": {
        "id": "UD17TWtM9_HR",
        "colab_type": "text"
      },
      "source": [
        "##### Dropping Irrelevant columns"
      ]
    },
    {
      "cell_type": "code",
      "metadata": {
        "id": "FtRougEb9_HR",
        "colab_type": "code",
        "colab": {}
      },
      "source": [
        "Borrower_Loan_payment.drop(['member_id','id'],axis=1, inplace=True)"
      ],
      "execution_count": 0,
      "outputs": []
    },
    {
      "cell_type": "markdown",
      "metadata": {
        "id": "AMROAGqh9_HT",
        "colab_type": "text"
      },
      "source": [
        "#### Data Transformation\n",
        "We have make little data imputations in our columns .\n",
        "1. 'Emp_title' contains profession of the customer and it has missing text.We can fill it with '_' \n",
        "2. 'title' contains the description provided by borrower for the loan and it resembles 'purpose' column too .hence it can be dropped\n",
        "\n",
        "3. 'term' means the duration for the loan and it has data in format '30 months' . we can strip ' months ' text from it. \n",
        "4. 'emp_length' contains the number of employement years of customer.it contains '10+ years', '<1 year' sort of values.We can strip 'years' text and make data look more meaningfull."
      ]
    },
    {
      "cell_type": "code",
      "metadata": {
        "id": "lRH4hzsh9_HU",
        "colab_type": "code",
        "colab": {}
      },
      "source": [
        "Borrower_Loan_payment['emp_title'].fillna('Missing',inplace=True)\n",
        "Borrower_Loan_payment.drop(['title'], axis=1,inplace=True)\n",
        "Borrower_Loan_payment['term']=Borrower_Loan_payment['term'].str.strip('months')\n",
        "Borrower_Loan_payment['emp_length'] = Borrower_Loan_payment.emp_length.apply(lambda x : '0' if x == '< 1 year' else '10' if x == '10+ years' else x ) \n",
        "Borrower_Loan_payment['emp_length'] = Borrower_Loan_payment['emp_length'].str.replace('year','')\n",
        "Borrower_Loan_payment['emp_length'] = Borrower_Loan_payment['emp_length'].str.replace('s','')\n",
        "Borrower_Loan_payment.emp_length.fillna('-1',inplace=True)"
      ],
      "execution_count": 0,
      "outputs": []
    },
    {
      "cell_type": "markdown",
      "metadata": {
        "id": "lj1xS_1M9_HW",
        "colab_type": "text"
      },
      "source": [
        "#### Date columns \n",
        "Data Columns can be split into year and months for better meaning of the data.\n",
        "\n",
        "We have 5 date columns - earliest_cr_line,  issue_d,  last_pymnt_d,  last_credit_pull_d,  next_pymnt_d\n",
        "\n",
        "Filling  NaN values with '-' in these columns to avoid code failure."
      ]
    },
    {
      "cell_type": "code",
      "metadata": {
        "id": "rUYZTbgH9_HW",
        "colab_type": "code",
        "colab": {}
      },
      "source": [
        "Borrower_Loan_payment.last_pymnt_d.fillna('-',inplace=True)\n",
        "Borrower_Loan_payment.last_credit_pull_d.fillna('_',inplace=True)\n",
        "Borrower_Loan_payment.next_pymnt_d.fillna('_',inplace=True)\n",
        "Borrower_Loan_payment.earliest_cr_line.fillna('_',inplace=True)"
      ],
      "execution_count": 0,
      "outputs": []
    },
    {
      "cell_type": "code",
      "metadata": {
        "id": "9NZSKoik9_HY",
        "colab_type": "code",
        "colab": {}
      },
      "source": [
        "earliest_cr_line_df = pd.DataFrame(Borrower_Loan_payment.earliest_cr_line.str.split('-',1).tolist(),\n",
        "                          columns = ['earliest_cr_line_month','earliest_cr_line_year'])\n",
        "issue_date_df = pd.DataFrame(Borrower_Loan_payment.issue_d.str.split('-',1).tolist(),\n",
        "                          columns = ['issue_month','issue_year'])\n",
        "last_pymnt_df = pd.DataFrame(Borrower_Loan_payment.last_pymnt_d.str.split('-',1).tolist(),\n",
        "                          columns = ['last_pymnt_month','last_pymnt_year'])\n",
        "last_credit_pull_df = pd.DataFrame(Borrower_Loan_payment.last_credit_pull_d.str.split('-',1).tolist(),\n",
        "                          columns = ['last_credit_pull_month','last_credit_pull_year'])\n",
        "next_pymnt_df = pd.DataFrame(Borrower_Loan_payment.next_pymnt_d.str.split('-',1).tolist(),\n",
        "                          columns = ['next_pymnt_month','next_pymnt_year'])"
      ],
      "execution_count": 0,
      "outputs": []
    },
    {
      "cell_type": "code",
      "metadata": {
        "id": "to_whlDt9_Hb",
        "colab_type": "code",
        "colab": {}
      },
      "source": [
        "Borrower_Loan_payment=pd.concat([Borrower_Loan_payment,earliest_cr_line_df,issue_date_df,last_pymnt_df,last_credit_pull_df,next_pymnt_df], axis=1).reset_index()"
      ],
      "execution_count": 0,
      "outputs": []
    },
    {
      "cell_type": "markdown",
      "metadata": {
        "id": "fy2TYdQk9_Hi",
        "colab_type": "text"
      },
      "source": [
        "####  Rest columns  with NaN values\n",
        "Few columns are still left with NaN values.\n",
        "\n",
        "Let's fill the with 0 for the moment."
      ]
    },
    {
      "cell_type": "code",
      "metadata": {
        "id": "FAsTF-aR9_Hj",
        "colab_type": "code",
        "colab": {}
      },
      "source": [
        "Borrower_Loan_payment['tot_cur_bal']=Borrower_Loan_payment['tot_cur_bal'].fillna(0)\n",
        "Borrower_Loan_payment['tot_coll_amt']=Borrower_Loan_payment['tot_coll_amt'].fillna(0)\n",
        "Borrower_Loan_payment['mths_since_last_major_derog']=Borrower_Loan_payment['mths_since_last_major_derog'].fillna(0)\n",
        "Borrower_Loan_payment['collections_12_mths_ex_med']=Borrower_Loan_payment['collections_12_mths_ex_med'].fillna(0)\n",
        "\n",
        "Borrower_Loan_payment['revol_util']=Borrower_Loan_payment['revol_util'].fillna(0)\n",
        "Borrower_Loan_payment['mths_since_last_delinq']=Borrower_Loan_payment['mths_since_last_delinq'].fillna(0)\n",
        "Borrower_Loan_payment['annual_inc']=Borrower_Loan_payment['annual_inc'].fillna(0)"
      ],
      "execution_count": 0,
      "outputs": []
    },
    {
      "cell_type": "code",
      "metadata": {
        "id": "v7tePc4J9_Hl",
        "colab_type": "code",
        "colab": {}
      },
      "source": [
        "Borrower_Loan_payment[['emp_length','index','term','loan_amnt','funded_amnt']] = Borrower_Loan_payment[['index', 'emp_length','term','loan_amnt','funded_amnt']].astype(int)\n",
        "\n",
        "\n",
        "Borrower_Loan_payment[['emp_title', 'home_ownership','zip_code','addr_state','grade','sub_grade','loan_status','pymnt_plan',\n",
        "                                'purpose','application_type']] = Borrower_Loan_payment[['emp_title', 'home_ownership','zip_code','addr_state','grade','sub_grade','loan_status','pymnt_plan',\n",
        "                                'purpose','application_type']].astype(object)\n",
        "Borrower_Loan_payment[['annual_inc', 'open_acc','pub_rec','total_acc','delinq_2yrs','int_rate','funded_amnt_inv'\n",
        "                          ,'installment','dti','inq_last_6mths','mths_since_last_delinq','revol_bal','revol_util',\n",
        "                          'out_prncp','out_prncp_inv','total_pymnt','total_pymnt_inv','total_rec_prncp','total_rec_int',\n",
        "                          'total_rec_late_fee','recoveries','collection_recovery_fee','last_pymnt_amnt','collections_12_mths_ex_med',\n",
        "                          'mths_since_last_major_derog','acc_now_delinq','tot_coll_amt','tot_cur_bal'\n",
        "                          ]] = Borrower_Loan_payment[['annual_inc', 'open_acc','pub_rec','total_acc','delinq_2yrs','int_rate','funded_amnt_inv'\n",
        "                          ,'installment','dti','inq_last_6mths','mths_since_last_delinq','revol_bal','revol_util',\n",
        "                          'out_prncp','out_prncp_inv','total_pymnt','total_pymnt_inv','total_rec_prncp','total_rec_int',\n",
        "                          'total_rec_late_fee','recoveries','collection_recovery_fee','last_pymnt_amnt','collections_12_mths_ex_med',\n",
        "                          'mths_since_last_major_derog','acc_now_delinq','tot_coll_amt','tot_cur_bal'\n",
        "                          ]].astype(float)\n",
        "Borrower_Loan_payment.drop(['earliest_cr_line','issue_d','last_pymnt_d','next_pymnt_d','last_credit_pull_d'], axis=1,inplace=True)"
      ],
      "execution_count": 0,
      "outputs": []
    },
    {
      "cell_type": "markdown",
      "metadata": {
        "id": "sQRZpt3u9_Hn",
        "colab_type": "text"
      },
      "source": [
        "#### New Feature"
      ]
    },
    {
      "cell_type": "markdown",
      "metadata": {
        "id": "LHpIzXpU9_Hn",
        "colab_type": "text"
      },
      "source": [
        "Here, the relevant column is 'loan_status'.\n",
        "\n",
        "'loan_status' = 'present status of the loan\n",
        "\n"
      ]
    },
    {
      "cell_type": "code",
      "metadata": {
        "id": "34L5fLtZ9_Ho",
        "colab_type": "code",
        "outputId": "bcb1ed3d-ef52-46ef-9384-d2cf749b9e33",
        "colab": {}
      },
      "source": [
        "Borrower_Loan_payment.loan_status.value_counts()"
      ],
      "execution_count": 0,
      "outputs": [
        {
          "output_type": "execute_result",
          "data": {
            "text/plain": [
              "Current                                                601779\n",
              "Fully Paid                                             207723\n",
              "Charged Off                                             45248\n",
              "Late (31-120 days)                                      11591\n",
              "Issued                                                   8460\n",
              "In Grace Period                                          6253\n",
              "Late (16-30 days)                                        2357\n",
              "Does not meet the credit policy. Status:Fully Paid       1988\n",
              "Default                                                  1219\n",
              "Does not meet the credit policy. Status:Charged Off       761\n",
              "Name: loan_status, dtype: int64"
            ]
          },
          "metadata": {
            "tags": []
          },
          "execution_count": 79
        }
      ]
    },
    {
      "cell_type": "markdown",
      "metadata": {
        "id": "xoevHSN39_Hq",
        "colab_type": "text"
      },
      "source": [
        "A new feature 'Risk' is created based on 'loan_status' .\n",
        "\n",
        "    when loan_status is  Current, fully paid, Does not meet the credit policy. Status:Fully Paid\n",
        "        The Risk = 0 #### meaning the risk is low\n",
        "    when loan_status is Charged off, In Grace Period,Late (16-30 days), Does not meet the credit policy. Status:Charged Off \n",
        "    ,Late (31-120 days) ,    \n",
        "         The Risk = 1 #### meaning the risk is high\n",
        "\n",
        "Before this, we can check for null values in  loan_status."
      ]
    },
    {
      "cell_type": "code",
      "metadata": {
        "id": "6rBvIdHA9_Hq",
        "colab_type": "code",
        "colab": {}
      },
      "source": [
        "Borrower_Loan_payment.Risk=np.nan"
      ],
      "execution_count": 0,
      "outputs": []
    },
    {
      "cell_type": "code",
      "metadata": {
        "id": "0cx1x6i59_Hs",
        "colab_type": "code",
        "colab": {}
      },
      "source": [
        "highrisk = [\"Charged Off\",\"Late (31-120 days)\", \"In Grace Period\", \"Late (16-30 days)\",\"Default\", \"Does not meet the credit policy. Status:Charged Off\"]\n",
        "def check_risk(row):\n",
        "    if row in highrisk:\n",
        "        return 'HighRisk'\n",
        "    else:\n",
        "        return 'LowRisk'\n",
        "Borrower_Loan_payment['Risk']=Borrower_Loan_payment['loan_status'].apply(check_risk)  "
      ],
      "execution_count": 0,
      "outputs": []
    },
    {
      "cell_type": "code",
      "metadata": {
        "id": "EjbVOsEy9_Ht",
        "colab_type": "code",
        "colab": {}
      },
      "source": [
        "# Borrower_Loan_payment.loc[Borrower_Loan_payment['delinq_2yrs'] > 0.0,'Risk'] = 1\n",
        "# Borrower_Loan_payment.loc[Borrower_Loan_payment['delinq_2yrs'] == 0.0,'Risk'] = 0"
      ],
      "execution_count": 0,
      "outputs": []
    },
    {
      "cell_type": "code",
      "metadata": {
        "id": "dmrraVQI9_Hv",
        "colab_type": "code",
        "outputId": "45704e54-3038-4b40-d7a0-732f9ccf3535",
        "colab": {}
      },
      "source": [
        "Borrower_Loan_payment['Risk'].value_counts()"
      ],
      "execution_count": 0,
      "outputs": [
        {
          "output_type": "execute_result",
          "data": {
            "text/plain": [
              "LowRisk     819950\n",
              "HighRisk     67429\n",
              "Name: Risk, dtype: int64"
            ]
          },
          "metadata": {
            "tags": []
          },
          "execution_count": 83
        }
      ]
    },
    {
      "cell_type": "markdown",
      "metadata": {
        "id": "hEvoc78r9_Hw",
        "colab_type": "text"
      },
      "source": [
        "Checking the skewness of our dataset for Risk column"
      ]
    },
    {
      "cell_type": "code",
      "metadata": {
        "id": "gFwqNgU39_Hx",
        "colab_type": "code",
        "outputId": "ccfdaea2-6700-48d2-8c40-7c8104e05d17",
        "colab": {}
      },
      "source": [
        "print('Low Risk-',round(Borrower_Loan_payment['Risk'].value_counts()[\"LowRisk\"]/len(Borrower_Loan_payment) * 100,2),'% of the data\\n')\n",
        "print('High Risk-',round(Borrower_Loan_payment['Risk'].value_counts()[\"HighRisk\"]/len(Borrower_Loan_payment) * 100,2),'% of the data')"
      ],
      "execution_count": 0,
      "outputs": [
        {
          "output_type": "stream",
          "text": [
            "Low Risk- 92.4 % of the data\n",
            "\n",
            "High Risk- 7.6 % of the data\n"
          ],
          "name": "stdout"
        }
      ]
    },
    {
      "cell_type": "code",
      "metadata": {
        "id": "DUDznErp9_H0",
        "colab_type": "code",
        "outputId": "688b1813-99eb-4818-abb0-beb758068811",
        "colab": {}
      },
      "source": [
        "sns.countplot('Risk', data=Borrower_Loan_payment)\n",
        "plt.title('Risk Distribution \\n  0: Low Risk          1: High Risk')"
      ],
      "execution_count": 0,
      "outputs": [
        {
          "output_type": "execute_result",
          "data": {
            "text/plain": [
              "Text(0.5,1,'Risk Distribution \\n  0: Low Risk          1: High Risk')"
            ]
          },
          "metadata": {
            "tags": []
          },
          "execution_count": 85
        },
        {
          "output_type": "display_data",
          "data": {
            "image/png": "[encoded data removed]",
            "text/plain": [
              "<Figure size 432x288 with 1 Axes>"
            ]
          },
          "metadata": {
            "tags": []
          }
        }
      ]
    },
    {
      "cell_type": "code",
      "metadata": {
        "id": "w9BvJolY9_H3",
        "colab_type": "code",
        "colab": {}
      },
      "source": [
        "Borrower_Loan_payment['annual_inc_bin'] = pd.cut(x=Borrower_Loan_payment['annual_inc'], bins=[0,100000, 200000, 300000, 400000,500000, 600000, 700000, 800000],labels=['L1','L2','L3','L4','L5','L6','L7','L8'])"
      ],
      "execution_count": 0,
      "outputs": []
    },
    {
      "cell_type": "code",
      "metadata": {
        "id": "D_cPez8Y9_H5",
        "colab_type": "code",
        "colab": {}
      },
      "source": [
        "HighRisk_data=Borrower_Loan_payment[Borrower_Loan_payment['Risk'] == 'HighRisk']"
      ],
      "execution_count": 0,
      "outputs": []
    },
    {
      "cell_type": "code",
      "metadata": {
        "id": "twP51aWm9_H9",
        "colab_type": "code",
        "colab": {}
      },
      "source": [
        "Data=Borrower_Loan_payment.copy()"
      ],
      "execution_count": 0,
      "outputs": []
    },
    {
      "cell_type": "markdown",
      "metadata": {
        "id": "YxcvSU5L9_H-",
        "colab_type": "text"
      },
      "source": [
        "# Visualization"
      ]
    },
    {
      "cell_type": "markdown",
      "metadata": {
        "id": "2BhxFDQh9_H_",
        "colab_type": "text"
      },
      "source": [
        "Visualization is the best way of exploring the data.Let's gets started.First thing First.\n",
        "\n",
        "OUTLIERS\n",
        "\n",
        "1. A box plot is a method for graphically depicting groups of numerical data through their quartiles. Box plots may also have lines extending vertically from the boxes (whiskers) indicating variability outside the upper and lower quartiles, hence the terms box-and-whisker plot and box-and-whisker diagram. Outliers may be plotted as individual points.\n",
        "\n",
        "The outliers are those that are not included in the box of observation i.e no where near the quartiles."
      ]
    },
    {
      "cell_type": "markdown",
      "metadata": {
        "id": "9w5XtQBy9_H_",
        "colab_type": "text"
      },
      "source": [
        "###### Loan status"
      ]
    },
    {
      "cell_type": "code",
      "metadata": {
        "id": "Tk5PJrii9_IA",
        "colab_type": "code",
        "outputId": "4c77528a-f73c-4ff0-b20d-0470dfe2bcd1",
        "colab": {}
      },
      "source": [
        "sns.countplot(x=Borrower_Loan_payment.loc[Borrower_Loan_payment['loan_status'] != 'Current'].loan_status)"
      ],
      "execution_count": 0,
      "outputs": [
        {
          "output_type": "execute_result",
          "data": {
            "text/plain": [
              "<matplotlib.axes._subplots.AxesSubplot at 0x1da1f847240>"
            ]
          },
          "metadata": {
            "tags": []
          },
          "execution_count": 90
        },
        {
          "output_type": "display_data",
          "data": {
            "image/png": "[encoded data removed]",
            "text/plain": [
              "<Figure size 432x288 with 1 Axes>"
            ]
          },
          "metadata": {
            "tags": []
          }
        }
      ]
    },
    {
      "cell_type": "markdown",
      "metadata": {
        "id": "V15WAvOe9_IC",
        "colab_type": "text"
      },
      "source": [
        "##### Revolving utilization Rate"
      ]
    },
    {
      "cell_type": "code",
      "metadata": {
        "id": "y9g8N1QO9_ID",
        "colab_type": "code",
        "outputId": "66449c3e-3eca-4583-ecde-5c1870c25857",
        "colab": {}
      },
      "source": [
        "sns.boxplot(Borrower_Loan_payment['revol_util'])"
      ],
      "execution_count": 0,
      "outputs": [
        {
          "output_type": "execute_result",
          "data": {
            "text/plain": [
              "<matplotlib.axes._subplots.AxesSubplot at 0x1da223cb518>"
            ]
          },
          "metadata": {
            "tags": []
          },
          "execution_count": 91
        },
        {
          "output_type": "display_data",
          "data": {
            "image/png": "[encoded data removed]",
            "text/plain": [
              "<Figure size 432x288 with 1 Axes>"
            ]
          },
          "metadata": {
            "tags": []
          }
        }
      ]
    },
    {
      "cell_type": "markdown",
      "metadata": {
        "id": "qYjDY4079_IF",
        "colab_type": "text"
      },
      "source": [
        "we can see Outliers in Revolving utilization rate, although few values ."
      ]
    },
    {
      "cell_type": "code",
      "metadata": {
        "id": "ZslcF2Je9_IF",
        "colab_type": "code",
        "outputId": "6836c683-cf4c-4cd6-e9bf-438639366368",
        "colab": {}
      },
      "source": [
        "display(Borrower_Loan_payment.shape)\n",
        "Borrower_Loan_payment[Borrower_Loan_payment['revol_util']> 200]#.shape\n",
        "    "
      ],
      "execution_count": 0,
      "outputs": [
        {
          "output_type": "display_data",
          "data": {
            "text/plain": [
              "(887379, 55)"
            ]
          },
          "metadata": {
            "tags": []
          }
        },
        {
          "output_type": "execute_result",
          "data": {
            "text/html": [
              "<div>\n",
              "<style scoped>\n",
              "    .dataframe tbody tr th:only-of-type {\n",
              "        vertical-align: middle;\n",
              "    }\n",
              "\n",
              "    .dataframe tbody tr th {\n",
              "        vertical-align: top;\n",
              "    }\n",
              "\n",
              "    .dataframe thead th {\n",
              "        text-align: right;\n",
              "    }\n",
              "</style>\n",
              "<table border=\"1\" class=\"dataframe\">\n",
              "  <thead>\n",
              "    <tr style=\"text-align: right;\">\n",
              "      <th></th>\n",
              "      <th>index</th>\n",
              "      <th>emp_title</th>\n",
              "      <th>emp_length</th>\n",
              "      <th>home_ownership</th>\n",
              "      <th>zip_code</th>\n",
              "      <th>addr_state</th>\n",
              "      <th>annual_inc</th>\n",
              "      <th>open_acc</th>\n",
              "      <th>pub_rec</th>\n",
              "      <th>total_acc</th>\n",
              "      <th>delinq_2yrs</th>\n",
              "      <th>term</th>\n",
              "      <th>grade</th>\n",
              "      <th>sub_grade</th>\n",
              "      <th>loan_status</th>\n",
              "      <th>pymnt_plan</th>\n",
              "      <th>purpose</th>\n",
              "      <th>application_type</th>\n",
              "      <th>loan_amnt</th>\n",
              "      <th>int_rate</th>\n",
              "      <th>funded_amnt</th>\n",
              "      <th>funded_amnt_inv</th>\n",
              "      <th>installment</th>\n",
              "      <th>dti</th>\n",
              "      <th>inq_last_6mths</th>\n",
              "      <th>mths_since_last_delinq</th>\n",
              "      <th>revol_bal</th>\n",
              "      <th>revol_util</th>\n",
              "      <th>out_prncp</th>\n",
              "      <th>out_prncp_inv</th>\n",
              "      <th>total_pymnt</th>\n",
              "      <th>total_pymnt_inv</th>\n",
              "      <th>total_rec_prncp</th>\n",
              "      <th>total_rec_int</th>\n",
              "      <th>total_rec_late_fee</th>\n",
              "      <th>recoveries</th>\n",
              "      <th>collection_recovery_fee</th>\n",
              "      <th>last_pymnt_amnt</th>\n",
              "      <th>collections_12_mths_ex_med</th>\n",
              "      <th>mths_since_last_major_derog</th>\n",
              "      <th>acc_now_delinq</th>\n",
              "      <th>tot_coll_amt</th>\n",
              "      <th>tot_cur_bal</th>\n",
              "      <th>earliest_cr_line_month</th>\n",
              "      <th>earliest_cr_line_year</th>\n",
              "      <th>issue_month</th>\n",
              "      <th>issue_year</th>\n",
              "      <th>last_pymnt_month</th>\n",
              "      <th>last_pymnt_year</th>\n",
              "      <th>last_credit_pull_month</th>\n",
              "      <th>last_credit_pull_year</th>\n",
              "      <th>next_pymnt_month</th>\n",
              "      <th>next_pymnt_year</th>\n",
              "      <th>Risk</th>\n",
              "      <th>annual_inc_bin</th>\n",
              "    </tr>\n",
              "  </thead>\n",
              "  <tbody>\n",
              "    <tr>\n",
              "      <th>368206</th>\n",
              "      <td>0</td>\n",
              "      <td>sales rep</td>\n",
              "      <td>368206</td>\n",
              "      <td>MORTGAGE</td>\n",
              "      <td>284xx</td>\n",
              "      <td>NC</td>\n",
              "      <td>48000.0</td>\n",
              "      <td>4.0</td>\n",
              "      <td>0.0</td>\n",
              "      <td>15.0</td>\n",
              "      <td>0.0</td>\n",
              "      <td>60</td>\n",
              "      <td>C</td>\n",
              "      <td>C4</td>\n",
              "      <td>In Grace Period</td>\n",
              "      <td>n</td>\n",
              "      <td>debt_consolidation</td>\n",
              "      <td>INDIVIDUAL</td>\n",
              "      <td>16500</td>\n",
              "      <td>14.49</td>\n",
              "      <td>16500</td>\n",
              "      <td>16500.0</td>\n",
              "      <td>388.14</td>\n",
              "      <td>9.33</td>\n",
              "      <td>0.0</td>\n",
              "      <td>0.0</td>\n",
              "      <td>2566.0</td>\n",
              "      <td>366.6</td>\n",
              "      <td>12727.23</td>\n",
              "      <td>12727.23</td>\n",
              "      <td>6986.52</td>\n",
              "      <td>6986.52</td>\n",
              "      <td>3772.77</td>\n",
              "      <td>3213.75</td>\n",
              "      <td>0.0</td>\n",
              "      <td>0.0</td>\n",
              "      <td>0.0</td>\n",
              "      <td>388.14</td>\n",
              "      <td>0.0</td>\n",
              "      <td>0.0</td>\n",
              "      <td>0.0</td>\n",
              "      <td>0.0</td>\n",
              "      <td>17390.0</td>\n",
              "      <td>Jun</td>\n",
              "      <td>1996</td>\n",
              "      <td>Jun</td>\n",
              "      <td>2014</td>\n",
              "      <td>Dec</td>\n",
              "      <td>2015</td>\n",
              "      <td>Dec</td>\n",
              "      <td>2015</td>\n",
              "      <td>Feb</td>\n",
              "      <td>2016</td>\n",
              "      <td>HighRisk</td>\n",
              "      <td>L1</td>\n",
              "    </tr>\n",
              "    <tr>\n",
              "      <th>406516</th>\n",
              "      <td>10</td>\n",
              "      <td>Budget Analyst</td>\n",
              "      <td>406516</td>\n",
              "      <td>RENT</td>\n",
              "      <td>918xx</td>\n",
              "      <td>CA</td>\n",
              "      <td>45000.0</td>\n",
              "      <td>2.0</td>\n",
              "      <td>0.0</td>\n",
              "      <td>9.0</td>\n",
              "      <td>0.0</td>\n",
              "      <td>36</td>\n",
              "      <td>B</td>\n",
              "      <td>B4</td>\n",
              "      <td>Fully Paid</td>\n",
              "      <td>n</td>\n",
              "      <td>debt_consolidation</td>\n",
              "      <td>INDIVIDUAL</td>\n",
              "      <td>3500</td>\n",
              "      <td>12.49</td>\n",
              "      <td>3500</td>\n",
              "      <td>3500.0</td>\n",
              "      <td>117.08</td>\n",
              "      <td>14.67</td>\n",
              "      <td>0.0</td>\n",
              "      <td>67.0</td>\n",
              "      <td>2677.0</td>\n",
              "      <td>892.3</td>\n",
              "      <td>0.00</td>\n",
              "      <td>0.00</td>\n",
              "      <td>3944.66</td>\n",
              "      <td>3944.66</td>\n",
              "      <td>3500.00</td>\n",
              "      <td>444.66</td>\n",
              "      <td>0.0</td>\n",
              "      <td>0.0</td>\n",
              "      <td>0.0</td>\n",
              "      <td>2422.62</td>\n",
              "      <td>0.0</td>\n",
              "      <td>0.0</td>\n",
              "      <td>0.0</td>\n",
              "      <td>0.0</td>\n",
              "      <td>5668.0</td>\n",
              "      <td>Oct</td>\n",
              "      <td>1998</td>\n",
              "      <td>Apr</td>\n",
              "      <td>2014</td>\n",
              "      <td>Jul</td>\n",
              "      <td>2015</td>\n",
              "      <td>Jan</td>\n",
              "      <td>2016</td>\n",
              "      <td>_</td>\n",
              "      <td>None</td>\n",
              "      <td>LowRisk</td>\n",
              "      <td>L1</td>\n",
              "    </tr>\n",
              "  </tbody>\n",
              "</table>\n",
              "</div>"
            ],
            "text/plain": [
              "        index       emp_title  emp_length home_ownership zip_code addr_state  \\\n",
              "368206      0       sales rep      368206       MORTGAGE    284xx         NC   \n",
              "406516     10  Budget Analyst      406516           RENT    918xx         CA   \n",
              "\n",
              "        annual_inc  open_acc  pub_rec  total_acc  delinq_2yrs  term grade  \\\n",
              "368206     48000.0       4.0      0.0       15.0          0.0    60     C   \n",
              "406516     45000.0       2.0      0.0        9.0          0.0    36     B   \n",
              "\n",
              "       sub_grade      loan_status pymnt_plan             purpose  \\\n",
              "368206        C4  In Grace Period          n  debt_consolidation   \n",
              "406516        B4       Fully Paid          n  debt_consolidation   \n",
              "\n",
              "       application_type  loan_amnt  int_rate  funded_amnt  funded_amnt_inv  \\\n",
              "368206       INDIVIDUAL      16500     14.49        16500          16500.0   \n",
              "406516       INDIVIDUAL       3500     12.49         3500           3500.0   \n",
              "\n",
              "        installment    dti  inq_last_6mths  mths_since_last_delinq  revol_bal  \\\n",
              "368206       388.14   9.33             0.0                     0.0     2566.0   \n",
              "406516       117.08  14.67             0.0                    67.0     2677.0   \n",
              "\n",
              "        revol_util  out_prncp  out_prncp_inv  total_pymnt  total_pymnt_inv  \\\n",
              "368206       366.6   12727.23       12727.23      6986.52          6986.52   \n",
              "406516       892.3       0.00           0.00      3944.66          3944.66   \n",
              "\n",
              "        total_rec_prncp  total_rec_int  total_rec_late_fee  recoveries  \\\n",
              "368206          3772.77        3213.75                 0.0         0.0   \n",
              "406516          3500.00         444.66                 0.0         0.0   \n",
              "\n",
              "        collection_recovery_fee  last_pymnt_amnt  collections_12_mths_ex_med  \\\n",
              "368206                      0.0           388.14                         0.0   \n",
              "406516                      0.0          2422.62                         0.0   \n",
              "\n",
              "        mths_since_last_major_derog  acc_now_delinq  tot_coll_amt  \\\n",
              "368206                          0.0             0.0           0.0   \n",
              "406516                          0.0             0.0           0.0   \n",
              "\n",
              "        tot_cur_bal earliest_cr_line_month earliest_cr_line_year issue_month  \\\n",
              "368206      17390.0                    Jun                  1996         Jun   \n",
              "406516       5668.0                    Oct                  1998         Apr   \n",
              "\n",
              "       issue_year last_pymnt_month last_pymnt_year last_credit_pull_month  \\\n",
              "368206       2014              Dec            2015                    Dec   \n",
              "406516       2014              Jul            2015                    Jan   \n",
              "\n",
              "       last_credit_pull_year next_pymnt_month next_pymnt_year      Risk  \\\n",
              "368206                  2015              Feb            2016  HighRisk   \n",
              "406516                  2016                _            None   LowRisk   \n",
              "\n",
              "       annual_inc_bin  \n",
              "368206             L1  \n",
              "406516             L1  "
            ]
          },
          "metadata": {
            "tags": []
          },
          "execution_count": 92
        }
      ]
    },
    {
      "cell_type": "markdown",
      "metadata": {
        "id": "4UgjSwLY9_IJ",
        "colab_type": "text"
      },
      "source": [
        "Two records with Revolving Utilitzation rate more than 200 are present and they are outliers.\n",
        "Athough record with rate ='366\" is HIGH RISK record."
      ]
    },
    {
      "cell_type": "code",
      "metadata": {
        "id": "QxTdG5509_IK",
        "colab_type": "code",
        "outputId": "72475a17-184b-4a77-a0d3-cb850bfe271a",
        "colab": {}
      },
      "source": [
        "Borrower_Loan_payment=Borrower_Loan_payment[Borrower_Loan_payment['revol_util']< 200]\n",
        "display(Borrower_Loan_payment.shape)"
      ],
      "execution_count": 0,
      "outputs": [
        {
          "output_type": "display_data",
          "data": {
            "text/plain": [
              "(887377, 55)"
            ]
          },
          "metadata": {
            "tags": []
          }
        }
      ]
    },
    {
      "cell_type": "code",
      "metadata": {
        "id": "c8z41-1H9_IL",
        "colab_type": "code",
        "outputId": "de8efdbe-b2ca-4b9d-8e5a-67a0b0eb8426",
        "colab": {}
      },
      "source": [
        "Borrower_Loan_payment.revol_util.hist()"
      ],
      "execution_count": 0,
      "outputs": [
        {
          "output_type": "execute_result",
          "data": {
            "text/plain": [
              "<matplotlib.axes._subplots.AxesSubplot at 0x1da52c3f4a8>"
            ]
          },
          "metadata": {
            "tags": []
          },
          "execution_count": 94
        },
        {
          "output_type": "display_data",
          "data": {
            "image/png": "[encoded data removed]",
            "text/plain": [
              "<Figure size 432x288 with 1 Axes>"
            ]
          },
          "metadata": {
            "tags": []
          }
        }
      ]
    },
    {
      "cell_type": "code",
      "metadata": {
        "id": "DsL3-Awa9_IN",
        "colab_type": "code",
        "outputId": "da09d5f9-8783-46b6-df6a-556d870f2bf9",
        "colab": {}
      },
      "source": [
        "# sns.factorplot(x=\"revol_util\",y=\"Risk\",data=Borrower_Loan_payment,kind=\"bar\", size = 6 )\n",
        "sns.barplot('revol_util','Risk',data=Borrower_Loan_payment,palette=\"inferno\")"
      ],
      "execution_count": 0,
      "outputs": [
        {
          "output_type": "execute_result",
          "data": {
            "text/plain": [
              "<matplotlib.axes._subplots.AxesSubplot at 0x1da27424f98>"
            ]
          },
          "metadata": {
            "tags": []
          },
          "execution_count": 98
        },
        {
          "output_type": "display_data",
          "data": {
            "image/png": "[encoded data removed]",
            "text/plain": [
              "<Figure size 432x288 with 1 Axes>"
            ]
          },
          "metadata": {
            "tags": []
          }
        }
      ]
    },
    {
      "cell_type": "code",
      "metadata": {
        "id": "14iZE-me9_IP",
        "colab_type": "code",
        "outputId": "bd5f0663-37d7-4a31-9a7e-b85d4440933c",
        "colab": {}
      },
      "source": [
        "def binning(col, cut_points, labels=None):\n",
        "    minval = col.min()\n",
        "    maxval = col.max()\n",
        "\n",
        "\n",
        "    #create list by adding min and max to cut_points\n",
        "    break_points = [minval] + cut_points + [maxval]\n",
        "\n",
        "    #if no labels provided, use default labels 0 ... (n-1)\n",
        "    if not labels:\n",
        "        labels = range(len(cut_points)+1)\n",
        "\n",
        "    #Binning using cut function of pandas\n",
        "    colBin = pd.cut(col,bins=break_points,labels=labels,include_lowest=True)\n",
        "    return colBin\n",
        "\n",
        "\n",
        "cut_points = [25,50,75,100]\n",
        "labels = [\"Quarter\",\"Half\",\"ThreeFourth\",\"Full\",\"MoreThanFull\"]\n",
        "Borrower_Loan_payment[\"revol_util_bin\"] = binning(Borrower_Loan_payment[\"revol_util\"], cut_points, labels)\n",
        "print (pd.value_counts(Borrower_Loan_payment[\"revol_util_bin\"], sort=False))\n",
        "\n"
      ],
      "execution_count": 0,
      "outputs": [
        {
          "output_type": "stream",
          "text": [
            "Quarter         108025\n",
            "Half            259760\n",
            "ThreeFourth     315022\n",
            "Full            201066\n",
            "MoreThanFull      3504\n",
            "Name: revol_util_bin, dtype: int64\n"
          ],
          "name": "stdout"
        }
      ]
    },
    {
      "cell_type": "code",
      "metadata": {
        "id": "Op0ozAhH9_IR",
        "colab_type": "code",
        "outputId": "708be87c-fb6a-468f-e912-282184330eed",
        "colab": {}
      },
      "source": [
        "Borrower_Loan_payment.head()"
      ],
      "execution_count": 0,
      "outputs": [
        {
          "output_type": "execute_result",
          "data": {
            "text/html": [
              "<div>\n",
              "<style scoped>\n",
              "    .dataframe tbody tr th:only-of-type {\n",
              "        vertical-align: middle;\n",
              "    }\n",
              "\n",
              "    .dataframe tbody tr th {\n",
              "        vertical-align: top;\n",
              "    }\n",
              "\n",
              "    .dataframe thead th {\n",
              "        text-align: right;\n",
              "    }\n",
              "</style>\n",
              "<table border=\"1\" class=\"dataframe\">\n",
              "  <thead>\n",
              "    <tr style=\"text-align: right;\">\n",
              "      <th></th>\n",
              "      <th>index</th>\n",
              "      <th>emp_title</th>\n",
              "      <th>emp_length</th>\n",
              "      <th>home_ownership</th>\n",
              "      <th>zip_code</th>\n",
              "      <th>addr_state</th>\n",
              "      <th>annual_inc</th>\n",
              "      <th>open_acc</th>\n",
              "      <th>pub_rec</th>\n",
              "      <th>total_acc</th>\n",
              "      <th>delinq_2yrs</th>\n",
              "      <th>term</th>\n",
              "      <th>grade</th>\n",
              "      <th>sub_grade</th>\n",
              "      <th>loan_status</th>\n",
              "      <th>pymnt_plan</th>\n",
              "      <th>purpose</th>\n",
              "      <th>application_type</th>\n",
              "      <th>loan_amnt</th>\n",
              "      <th>int_rate</th>\n",
              "      <th>funded_amnt</th>\n",
              "      <th>funded_amnt_inv</th>\n",
              "      <th>installment</th>\n",
              "      <th>dti</th>\n",
              "      <th>inq_last_6mths</th>\n",
              "      <th>mths_since_last_delinq</th>\n",
              "      <th>revol_bal</th>\n",
              "      <th>revol_util</th>\n",
              "      <th>out_prncp</th>\n",
              "      <th>out_prncp_inv</th>\n",
              "      <th>total_pymnt</th>\n",
              "      <th>total_pymnt_inv</th>\n",
              "      <th>total_rec_prncp</th>\n",
              "      <th>total_rec_int</th>\n",
              "      <th>total_rec_late_fee</th>\n",
              "      <th>recoveries</th>\n",
              "      <th>collection_recovery_fee</th>\n",
              "      <th>last_pymnt_amnt</th>\n",
              "      <th>collections_12_mths_ex_med</th>\n",
              "      <th>mths_since_last_major_derog</th>\n",
              "      <th>acc_now_delinq</th>\n",
              "      <th>tot_coll_amt</th>\n",
              "      <th>tot_cur_bal</th>\n",
              "      <th>earliest_cr_line_month</th>\n",
              "      <th>earliest_cr_line_year</th>\n",
              "      <th>issue_month</th>\n",
              "      <th>issue_year</th>\n",
              "      <th>last_pymnt_month</th>\n",
              "      <th>last_pymnt_year</th>\n",
              "      <th>last_credit_pull_month</th>\n",
              "      <th>last_credit_pull_year</th>\n",
              "      <th>next_pymnt_month</th>\n",
              "      <th>next_pymnt_year</th>\n",
              "      <th>Risk</th>\n",
              "      <th>annual_inc_bin</th>\n",
              "      <th>revol_util_lines</th>\n",
              "      <th>revol_util_bin</th>\n",
              "    </tr>\n",
              "  </thead>\n",
              "  <tbody>\n",
              "    <tr>\n",
              "      <th>0</th>\n",
              "      <td>10</td>\n",
              "      <td>Missing</td>\n",
              "      <td>0</td>\n",
              "      <td>RENT</td>\n",
              "      <td>860xx</td>\n",
              "      <td>AZ</td>\n",
              "      <td>24000.0</td>\n",
              "      <td>3.0</td>\n",
              "      <td>0.0</td>\n",
              "      <td>9.0</td>\n",
              "      <td>0.0</td>\n",
              "      <td>36</td>\n",
              "      <td>B</td>\n",
              "      <td>B2</td>\n",
              "      <td>Fully Paid</td>\n",
              "      <td>n</td>\n",
              "      <td>credit_card</td>\n",
              "      <td>INDIVIDUAL</td>\n",
              "      <td>5000</td>\n",
              "      <td>10.65</td>\n",
              "      <td>5000</td>\n",
              "      <td>4975.0</td>\n",
              "      <td>162.87</td>\n",
              "      <td>27.65</td>\n",
              "      <td>1.0</td>\n",
              "      <td>0.0</td>\n",
              "      <td>13648.0</td>\n",
              "      <td>83.7</td>\n",
              "      <td>0.0</td>\n",
              "      <td>0.0</td>\n",
              "      <td>5861.071414</td>\n",
              "      <td>5831.78</td>\n",
              "      <td>5000.00</td>\n",
              "      <td>861.07</td>\n",
              "      <td>0.00</td>\n",
              "      <td>0.00</td>\n",
              "      <td>0.00</td>\n",
              "      <td>171.62</td>\n",
              "      <td>0.0</td>\n",
              "      <td>0.0</td>\n",
              "      <td>0.0</td>\n",
              "      <td>0.0</td>\n",
              "      <td>0.0</td>\n",
              "      <td>Jan</td>\n",
              "      <td>1985</td>\n",
              "      <td>Dec</td>\n",
              "      <td>2011</td>\n",
              "      <td>Jan</td>\n",
              "      <td>2015</td>\n",
              "      <td>Jan</td>\n",
              "      <td>2016</td>\n",
              "      <td>_</td>\n",
              "      <td>None</td>\n",
              "      <td>LowRisk</td>\n",
              "      <td>L1</td>\n",
              "      <td>4</td>\n",
              "      <td>Full</td>\n",
              "    </tr>\n",
              "    <tr>\n",
              "      <th>1</th>\n",
              "      <td>0</td>\n",
              "      <td>Ryder</td>\n",
              "      <td>1</td>\n",
              "      <td>RENT</td>\n",
              "      <td>309xx</td>\n",
              "      <td>GA</td>\n",
              "      <td>30000.0</td>\n",
              "      <td>3.0</td>\n",
              "      <td>0.0</td>\n",
              "      <td>4.0</td>\n",
              "      <td>0.0</td>\n",
              "      <td>60</td>\n",
              "      <td>C</td>\n",
              "      <td>C4</td>\n",
              "      <td>Charged Off</td>\n",
              "      <td>n</td>\n",
              "      <td>car</td>\n",
              "      <td>INDIVIDUAL</td>\n",
              "      <td>2500</td>\n",
              "      <td>15.27</td>\n",
              "      <td>2500</td>\n",
              "      <td>2500.0</td>\n",
              "      <td>59.83</td>\n",
              "      <td>1.00</td>\n",
              "      <td>5.0</td>\n",
              "      <td>0.0</td>\n",
              "      <td>1687.0</td>\n",
              "      <td>9.4</td>\n",
              "      <td>0.0</td>\n",
              "      <td>0.0</td>\n",
              "      <td>1008.710000</td>\n",
              "      <td>1008.71</td>\n",
              "      <td>456.46</td>\n",
              "      <td>435.17</td>\n",
              "      <td>0.00</td>\n",
              "      <td>117.08</td>\n",
              "      <td>1.11</td>\n",
              "      <td>119.66</td>\n",
              "      <td>0.0</td>\n",
              "      <td>0.0</td>\n",
              "      <td>0.0</td>\n",
              "      <td>0.0</td>\n",
              "      <td>0.0</td>\n",
              "      <td>Apr</td>\n",
              "      <td>1999</td>\n",
              "      <td>Dec</td>\n",
              "      <td>2011</td>\n",
              "      <td>Apr</td>\n",
              "      <td>2013</td>\n",
              "      <td>Sep</td>\n",
              "      <td>2013</td>\n",
              "      <td>_</td>\n",
              "      <td>None</td>\n",
              "      <td>HighRisk</td>\n",
              "      <td>L1</td>\n",
              "      <td>0</td>\n",
              "      <td>Quarter</td>\n",
              "    </tr>\n",
              "    <tr>\n",
              "      <th>2</th>\n",
              "      <td>10</td>\n",
              "      <td>Missing</td>\n",
              "      <td>2</td>\n",
              "      <td>RENT</td>\n",
              "      <td>606xx</td>\n",
              "      <td>IL</td>\n",
              "      <td>12252.0</td>\n",
              "      <td>2.0</td>\n",
              "      <td>0.0</td>\n",
              "      <td>10.0</td>\n",
              "      <td>0.0</td>\n",
              "      <td>36</td>\n",
              "      <td>C</td>\n",
              "      <td>C5</td>\n",
              "      <td>Fully Paid</td>\n",
              "      <td>n</td>\n",
              "      <td>small_business</td>\n",
              "      <td>INDIVIDUAL</td>\n",
              "      <td>2400</td>\n",
              "      <td>15.96</td>\n",
              "      <td>2400</td>\n",
              "      <td>2400.0</td>\n",
              "      <td>84.33</td>\n",
              "      <td>8.72</td>\n",
              "      <td>2.0</td>\n",
              "      <td>0.0</td>\n",
              "      <td>2956.0</td>\n",
              "      <td>98.5</td>\n",
              "      <td>0.0</td>\n",
              "      <td>0.0</td>\n",
              "      <td>3003.653644</td>\n",
              "      <td>3003.65</td>\n",
              "      <td>2400.00</td>\n",
              "      <td>603.65</td>\n",
              "      <td>0.00</td>\n",
              "      <td>0.00</td>\n",
              "      <td>0.00</td>\n",
              "      <td>649.91</td>\n",
              "      <td>0.0</td>\n",
              "      <td>0.0</td>\n",
              "      <td>0.0</td>\n",
              "      <td>0.0</td>\n",
              "      <td>0.0</td>\n",
              "      <td>Nov</td>\n",
              "      <td>2001</td>\n",
              "      <td>Dec</td>\n",
              "      <td>2011</td>\n",
              "      <td>Jun</td>\n",
              "      <td>2014</td>\n",
              "      <td>Jan</td>\n",
              "      <td>2016</td>\n",
              "      <td>_</td>\n",
              "      <td>None</td>\n",
              "      <td>LowRisk</td>\n",
              "      <td>L1</td>\n",
              "      <td>4</td>\n",
              "      <td>Full</td>\n",
              "    </tr>\n",
              "    <tr>\n",
              "      <th>3</th>\n",
              "      <td>10</td>\n",
              "      <td>AIR RESOURCES BOARD</td>\n",
              "      <td>3</td>\n",
              "      <td>RENT</td>\n",
              "      <td>917xx</td>\n",
              "      <td>CA</td>\n",
              "      <td>49200.0</td>\n",
              "      <td>10.0</td>\n",
              "      <td>0.0</td>\n",
              "      <td>37.0</td>\n",
              "      <td>0.0</td>\n",
              "      <td>36</td>\n",
              "      <td>C</td>\n",
              "      <td>C1</td>\n",
              "      <td>Fully Paid</td>\n",
              "      <td>n</td>\n",
              "      <td>other</td>\n",
              "      <td>INDIVIDUAL</td>\n",
              "      <td>10000</td>\n",
              "      <td>13.49</td>\n",
              "      <td>10000</td>\n",
              "      <td>10000.0</td>\n",
              "      <td>339.31</td>\n",
              "      <td>20.00</td>\n",
              "      <td>1.0</td>\n",
              "      <td>35.0</td>\n",
              "      <td>5598.0</td>\n",
              "      <td>21.0</td>\n",
              "      <td>0.0</td>\n",
              "      <td>0.0</td>\n",
              "      <td>12226.302212</td>\n",
              "      <td>12226.30</td>\n",
              "      <td>10000.00</td>\n",
              "      <td>2209.33</td>\n",
              "      <td>16.97</td>\n",
              "      <td>0.00</td>\n",
              "      <td>0.00</td>\n",
              "      <td>357.48</td>\n",
              "      <td>0.0</td>\n",
              "      <td>0.0</td>\n",
              "      <td>0.0</td>\n",
              "      <td>0.0</td>\n",
              "      <td>0.0</td>\n",
              "      <td>Feb</td>\n",
              "      <td>1996</td>\n",
              "      <td>Dec</td>\n",
              "      <td>2011</td>\n",
              "      <td>Jan</td>\n",
              "      <td>2015</td>\n",
              "      <td>Jan</td>\n",
              "      <td>2015</td>\n",
              "      <td>_</td>\n",
              "      <td>None</td>\n",
              "      <td>LowRisk</td>\n",
              "      <td>L1</td>\n",
              "      <td>0</td>\n",
              "      <td>Quarter</td>\n",
              "    </tr>\n",
              "    <tr>\n",
              "      <th>4</th>\n",
              "      <td>1</td>\n",
              "      <td>University Medical Group</td>\n",
              "      <td>4</td>\n",
              "      <td>RENT</td>\n",
              "      <td>972xx</td>\n",
              "      <td>OR</td>\n",
              "      <td>80000.0</td>\n",
              "      <td>15.0</td>\n",
              "      <td>0.0</td>\n",
              "      <td>38.0</td>\n",
              "      <td>0.0</td>\n",
              "      <td>60</td>\n",
              "      <td>B</td>\n",
              "      <td>B5</td>\n",
              "      <td>Current</td>\n",
              "      <td>n</td>\n",
              "      <td>other</td>\n",
              "      <td>INDIVIDUAL</td>\n",
              "      <td>3000</td>\n",
              "      <td>12.69</td>\n",
              "      <td>3000</td>\n",
              "      <td>3000.0</td>\n",
              "      <td>67.79</td>\n",
              "      <td>17.94</td>\n",
              "      <td>0.0</td>\n",
              "      <td>38.0</td>\n",
              "      <td>27783.0</td>\n",
              "      <td>53.9</td>\n",
              "      <td>766.9</td>\n",
              "      <td>766.9</td>\n",
              "      <td>3242.170000</td>\n",
              "      <td>3242.17</td>\n",
              "      <td>2233.10</td>\n",
              "      <td>1009.07</td>\n",
              "      <td>0.00</td>\n",
              "      <td>0.00</td>\n",
              "      <td>0.00</td>\n",
              "      <td>67.79</td>\n",
              "      <td>0.0</td>\n",
              "      <td>0.0</td>\n",
              "      <td>0.0</td>\n",
              "      <td>0.0</td>\n",
              "      <td>0.0</td>\n",
              "      <td>Jan</td>\n",
              "      <td>1996</td>\n",
              "      <td>Dec</td>\n",
              "      <td>2011</td>\n",
              "      <td>Jan</td>\n",
              "      <td>2016</td>\n",
              "      <td>Jan</td>\n",
              "      <td>2016</td>\n",
              "      <td>Feb</td>\n",
              "      <td>2016</td>\n",
              "      <td>LowRisk</td>\n",
              "      <td>L1</td>\n",
              "      <td>2</td>\n",
              "      <td>ThreeFourth</td>\n",
              "    </tr>\n",
              "  </tbody>\n",
              "</table>\n",
              "</div>"
            ],
            "text/plain": [
              "   index                 emp_title  emp_length home_ownership zip_code  \\\n",
              "0     10                   Missing           0           RENT    860xx   \n",
              "1      0                     Ryder           1           RENT    309xx   \n",
              "2     10                   Missing           2           RENT    606xx   \n",
              "3     10       AIR RESOURCES BOARD           3           RENT    917xx   \n",
              "4      1  University Medical Group           4           RENT    972xx   \n",
              "\n",
              "  addr_state  annual_inc  open_acc  pub_rec  total_acc  delinq_2yrs  term  \\\n",
              "0         AZ     24000.0       3.0      0.0        9.0          0.0    36   \n",
              "1         GA     30000.0       3.0      0.0        4.0          0.0    60   \n",
              "2         IL     12252.0       2.0      0.0       10.0          0.0    36   \n",
              "3         CA     49200.0      10.0      0.0       37.0          0.0    36   \n",
              "4         OR     80000.0      15.0      0.0       38.0          0.0    60   \n",
              "\n",
              "  grade sub_grade  loan_status pymnt_plan         purpose application_type  \\\n",
              "0     B        B2   Fully Paid          n     credit_card       INDIVIDUAL   \n",
              "1     C        C4  Charged Off          n             car       INDIVIDUAL   \n",
              "2     C        C5   Fully Paid          n  small_business       INDIVIDUAL   \n",
              "3     C        C1   Fully Paid          n           other       INDIVIDUAL   \n",
              "4     B        B5      Current          n           other       INDIVIDUAL   \n",
              "\n",
              "   loan_amnt  int_rate  funded_amnt  funded_amnt_inv  installment    dti  \\\n",
              "0       5000     10.65         5000           4975.0       162.87  27.65   \n",
              "1       2500     15.27         2500           2500.0        59.83   1.00   \n",
              "2       2400     15.96         2400           2400.0        84.33   8.72   \n",
              "3      10000     13.49        10000          10000.0       339.31  20.00   \n",
              "4       3000     12.69         3000           3000.0        67.79  17.94   \n",
              "\n",
              "   inq_last_6mths  mths_since_last_delinq  revol_bal  revol_util  out_prncp  \\\n",
              "0             1.0                     0.0    13648.0        83.7        0.0   \n",
              "1             5.0                     0.0     1687.0         9.4        0.0   \n",
              "2             2.0                     0.0     2956.0        98.5        0.0   \n",
              "3             1.0                    35.0     5598.0        21.0        0.0   \n",
              "4             0.0                    38.0    27783.0        53.9      766.9   \n",
              "\n",
              "   out_prncp_inv   total_pymnt  total_pymnt_inv  total_rec_prncp  \\\n",
              "0            0.0   5861.071414          5831.78          5000.00   \n",
              "1            0.0   1008.710000          1008.71           456.46   \n",
              "2            0.0   3003.653644          3003.65          2400.00   \n",
              "3            0.0  12226.302212         12226.30         10000.00   \n",
              "4          766.9   3242.170000          3242.17          2233.10   \n",
              "\n",
              "   total_rec_int  total_rec_late_fee  recoveries  collection_recovery_fee  \\\n",
              "0         861.07                0.00        0.00                     0.00   \n",
              "1         435.17                0.00      117.08                     1.11   \n",
              "2         603.65                0.00        0.00                     0.00   \n",
              "3        2209.33               16.97        0.00                     0.00   \n",
              "4        1009.07                0.00        0.00                     0.00   \n",
              "\n",
              "   last_pymnt_amnt  collections_12_mths_ex_med  mths_since_last_major_derog  \\\n",
              "0           171.62                         0.0                          0.0   \n",
              "1           119.66                         0.0                          0.0   \n",
              "2           649.91                         0.0                          0.0   \n",
              "3           357.48                         0.0                          0.0   \n",
              "4            67.79                         0.0                          0.0   \n",
              "\n",
              "   acc_now_delinq  tot_coll_amt  tot_cur_bal earliest_cr_line_month  \\\n",
              "0             0.0           0.0          0.0                    Jan   \n",
              "1             0.0           0.0          0.0                    Apr   \n",
              "2             0.0           0.0          0.0                    Nov   \n",
              "3             0.0           0.0          0.0                    Feb   \n",
              "4             0.0           0.0          0.0                    Jan   \n",
              "\n",
              "  earliest_cr_line_year issue_month issue_year last_pymnt_month  \\\n",
              "0                  1985         Dec       2011              Jan   \n",
              "1                  1999         Dec       2011              Apr   \n",
              "2                  2001         Dec       2011              Jun   \n",
              "3                  1996         Dec       2011              Jan   \n",
              "4                  1996         Dec       2011              Jan   \n",
              "\n",
              "  last_pymnt_year last_credit_pull_month last_credit_pull_year  \\\n",
              "0            2015                    Jan                  2016   \n",
              "1            2013                    Sep                  2013   \n",
              "2            2014                    Jan                  2016   \n",
              "3            2015                    Jan                  2015   \n",
              "4            2016                    Jan                  2016   \n",
              "\n",
              "  next_pymnt_month next_pymnt_year      Risk annual_inc_bin  revol_util_lines  \\\n",
              "0                _            None   LowRisk             L1                 4   \n",
              "1                _            None  HighRisk             L1                 0   \n",
              "2                _            None   LowRisk             L1                 4   \n",
              "3                _            None   LowRisk             L1                 0   \n",
              "4              Feb            2016   LowRisk             L1                 2   \n",
              "\n",
              "  revol_util_bin  \n",
              "0           Full  \n",
              "1        Quarter  \n",
              "2           Full  \n",
              "3        Quarter  \n",
              "4    ThreeFourth  "
            ]
          },
          "metadata": {
            "tags": []
          },
          "execution_count": 112
        }
      ]
    },
    {
      "cell_type": "code",
      "metadata": {
        "id": "57kdsKme9_IV",
        "colab_type": "code",
        "outputId": "6c165109-6264-4411-d88c-d913cc215537",
        "colab": {}
      },
      "source": [
        "sns.countplot(x='revol_util_bin',hue='Risk',data=Borrower_Loan_payment[Borrower_Loan_payment['Risk']=='HighRisk'])"
      ],
      "execution_count": 0,
      "outputs": [
        {
          "output_type": "execute_result",
          "data": {
            "text/plain": [
              "<matplotlib.axes._subplots.AxesSubplot at 0x1da4b89bc88>"
            ]
          },
          "metadata": {
            "tags": []
          },
          "execution_count": 115
        },
        {
          "output_type": "display_data",
          "data": {
            "image/png": "[encoded data removed]",
            "text/plain": [
              "<Figure size 432x288 with 1 Axes>"
            ]
          },
          "metadata": {
            "tags": []
          }
        }
      ]
    },
    {
      "cell_type": "markdown",
      "metadata": {
        "id": "-ZE5MUOo9_IY",
        "colab_type": "text"
      },
      "source": [
        "##### Emp_length"
      ]
    },
    {
      "cell_type": "code",
      "metadata": {
        "id": "cfNb98TJ9_IY",
        "colab_type": "code",
        "outputId": "f943d098-aa0a-45b7-f570-776caff198ca",
        "colab": {}
      },
      "source": [
        "g=sns.FacetGrid(Borrower_Loan_payment, col='Risk')\n",
        "g = g.map(sns.distplot, \"emp_length\")"
      ],
      "execution_count": 0,
      "outputs": [
        {
          "output_type": "display_data",
          "data": {
            "image/png": "[encoded data removed]",
            "text/plain": [
              "<Figure size 432x216 with 2 Axes>"
            ]
          },
          "metadata": {
            "tags": []
          }
        }
      ]
    },
    {
      "cell_type": "markdown",
      "metadata": {
        "id": "G2G0fg0k9_Ia",
        "colab_type": "text"
      },
      "source": [
        "##### Number of Loans"
      ]
    },
    {
      "cell_type": "markdown",
      "metadata": {
        "id": "dFX-JRy-9_Ib",
        "colab_type": "text"
      },
      "source": [
        "No of Loans issued per year .\n",
        "Number of issued loans have exponential risen up since 2010."
      ]
    },
    {
      "cell_type": "code",
      "metadata": {
        "id": "di9cdMkS9_Ic",
        "colab_type": "code",
        "outputId": "6084c13f-d233-40a3-8d9c-623ed11e1143",
        "colab": {}
      },
      "source": [
        "sns.countplot('issue_year',data=Borrower_Loan_payment,palette=\"inferno\")\n",
        "plt.title('Number of Loans issued per year', fontsize=16)\n",
        "plt.xlabel('Year', fontsize=14)\n",
        "plt.ylabel('Count of Loans issued', fontsize=14)"
      ],
      "execution_count": 0,
      "outputs": [
        {
          "output_type": "execute_result",
          "data": {
            "text/plain": [
              "Text(0,0.5,'Count of Loans issued')"
            ]
          },
          "metadata": {
            "tags": []
          },
          "execution_count": 94
        },
        {
          "output_type": "display_data",
          "data": {
            "image/png": "[encoded data removed]",
            "text/plain": [
              "<Figure size 432x288 with 1 Axes>"
            ]
          },
          "metadata": {
            "tags": []
          }
        }
      ]
    },
    {
      "cell_type": "markdown",
      "metadata": {
        "id": "2V6khWN-9_Ih",
        "colab_type": "text"
      },
      "source": [
        "Low and High Risk Loans per year.\n",
        "There was increase of High Risk in 2013 and 2014 but it has been seen to come down in 2015."
      ]
    },
    {
      "cell_type": "code",
      "metadata": {
        "id": "wh7FhRB_9_Im",
        "colab_type": "code",
        "outputId": "f736ecf7-eeca-4b16-9efc-c2f51ec68acf",
        "colab": {}
      },
      "source": [
        "sns.countplot('issue_year',hue='Risk',data=Borrower_Loan_payment,palette=\"inferno\")\n",
        "plt.title('Number of Loans issued per year', fontsize=16)\n",
        "plt.xlabel('Year', fontsize=14)\n",
        "plt.ylabel('Count of Loans issued', fontsize=14)"
      ],
      "execution_count": 0,
      "outputs": [
        {
          "output_type": "execute_result",
          "data": {
            "text/plain": [
              "Text(0,0.5,'Count of Loans issued')"
            ]
          },
          "metadata": {
            "tags": []
          },
          "execution_count": 36
        },
        {
          "output_type": "display_data",
          "data": {
            "image/png": "[encoded data removed]",
            "text/plain": [
              "<Figure size 432x288 with 1 Axes>"
            ]
          },
          "metadata": {
            "tags": []
          }
        }
      ]
    },
    {
      "cell_type": "markdown",
      "metadata": {
        "id": "5oYrR-nn9_Io",
        "colab_type": "text"
      },
      "source": [
        "##### Employment Duration of Borrower"
      ]
    },
    {
      "cell_type": "code",
      "metadata": {
        "id": "Kl1_yikS9_Ip",
        "colab_type": "code",
        "outputId": "d2c32666-f310-46ef-f3e4-2548483a1918",
        "colab": {}
      },
      "source": [
        "sns.distplot(Borrower_Loan_payment['emp_length'])"
      ],
      "execution_count": 0,
      "outputs": [
        {
          "output_type": "stream",
          "text": [
            "C:\\ProgramData\\Anaconda3\\lib\\site-packages\\matplotlib\\axes\\_axes.py:6462: UserWarning: The 'normed' kwarg is deprecated, and has been replaced by the 'density' kwarg.\n",
            "  warnings.warn(\"The 'normed' kwarg is deprecated, and has been \"\n"
          ],
          "name": "stderr"
        },
        {
          "output_type": "execute_result",
          "data": {
            "text/plain": [
              "<matplotlib.axes._subplots.AxesSubplot at 0x22f8569e9b0>"
            ]
          },
          "metadata": {
            "tags": []
          },
          "execution_count": 44
        },
        {
          "output_type": "display_data",
          "data": {
            "image/png": "[encoded data removed]",
            "text/plain": [
              "<Figure size 432x288 with 1 Axes>"
            ]
          },
          "metadata": {
            "tags": []
          }
        }
      ]
    },
    {
      "cell_type": "code",
      "metadata": {
        "id": "kAqpPce39_Is",
        "colab_type": "code",
        "outputId": "245c3a58-56f3-4ef7-b7b0-65a00138547f",
        "colab": {}
      },
      "source": [
        "ax=sns.countplot('annual_inc_bin',hue='Risk',data=HighRisk_data,palette=\"inferno\")\n",
        "for p in ax.patches:\n",
        "    height = p.get_height()\n",
        "    ax.text(p.get_x()+p.get_width()/2.,\n",
        "            height + 3,\n",
        "            '{:1.2f}'.format(height/len(HighRisk_data)),\n",
        "            ha=\"center\") \n",
        "plt.show()"
      ],
      "execution_count": 0,
      "outputs": [
        {
          "output_type": "display_data",
          "data": {
            "image/png": "[encoded data removed]",
            "text/plain": [
              "<Figure size 432x288 with 1 Axes>"
            ]
          },
          "metadata": {
            "tags": []
          }
        }
      ]
    },
    {
      "cell_type": "code",
      "metadata": {
        "id": "weHY0as59_Iu",
        "colab_type": "code",
        "outputId": "1e857b94-18e9-4034-ac26-3377c23a68ee",
        "colab": {}
      },
      "source": [
        "sns.countplot('issue_year',hue='Risk',data=Borrower_Loan_payment,palette=\"inferno\")"
      ],
      "execution_count": 0,
      "outputs": [
        {
          "output_type": "execute_result",
          "data": {
            "text/plain": [
              "<matplotlib.axes._subplots.AxesSubplot at 0x2a3b10097f0>"
            ]
          },
          "metadata": {
            "tags": []
          },
          "execution_count": 32
        },
        {
          "output_type": "display_data",
          "data": {
            "image/png": "[encoded data removed]",
            "text/plain": [
              "<Figure size 432x288 with 1 Axes>"
            ]
          },
          "metadata": {
            "tags": []
          }
        }
      ]
    },
    {
      "cell_type": "code",
      "metadata": {
        "id": "ZX4Ezad99_Iv",
        "colab_type": "code",
        "colab": {}
      },
      "source": [
        ""
      ],
      "execution_count": 0,
      "outputs": []
    },
    {
      "cell_type": "code",
      "metadata": {
        "id": "DxwiJP6R9_Iw",
        "colab_type": "code",
        "outputId": "36825b9a-1cf8-49f6-9b47-59a30cf5ce52",
        "colab": {}
      },
      "source": [
        "sns.countplot('issue_year',hue='loan_status',data=Borrower_Loan_payment,palette=\"inferno\")"
      ],
      "execution_count": 0,
      "outputs": [
        {
          "output_type": "execute_result",
          "data": {
            "text/plain": [
              "<matplotlib.axes._subplots.AxesSubplot at 0x2a3b371b0b8>"
            ]
          },
          "metadata": {
            "tags": []
          },
          "execution_count": 35
        },
        {
          "output_type": "display_data",
          "data": {
            "image/png": "[encoded data removed]",
            "text/plain": [
              "<Figure size 432x288 with 1 Axes>"
            ]
          },
          "metadata": {
            "tags": []
          }
        }
      ]
    },
    {
      "cell_type": "code",
      "metadata": {
        "id": "NlzvIZ1J9_Ix",
        "colab_type": "code",
        "outputId": "31097639-da91-4dfc-8051-9e89668d88f8",
        "colab": {}
      },
      "source": [
        "# Borrower_Loan_payment.query('issue_year == 2015' )\n",
        "Borrower_Loan_payment.issue_month[Borrower_Loan_payment['issue_year']== '2015'].value_counts()\n",
        "# Borrower_Loan_payment.issue_month[Borrower_Loan_payment['issue_year']== '2007'].value_counts()"
      ],
      "execution_count": 0,
      "outputs": [
        {
          "output_type": "execute_result",
          "data": {
            "text/plain": [
              "Oct    48631\n",
              "Jul    45962\n",
              "Dec    44342\n",
              "Nov    37530\n",
              "Aug    35886\n",
              "Apr    35427\n",
              "Jan    35107\n",
              "May    31913\n",
              "Sep    28641\n",
              "Jun    28485\n",
              "Mar    25400\n",
              "Feb    23770\n",
              "Name: issue_month, dtype: int64"
            ]
          },
          "metadata": {
            "tags": []
          },
          "execution_count": 36
        }
      ]
    },
    {
      "cell_type": "code",
      "metadata": {
        "scrolled": true,
        "id": "9PPrcPRn9_Iz",
        "colab_type": "code",
        "outputId": "4d668053-6888-4d37-d842-e0c10c65d64f",
        "colab": {}
      },
      "source": [
        "sns.barplot('issue_year','loan_amnt',data=Borrower_Loan_payment,palette=\"inferno\")"
      ],
      "execution_count": 0,
      "outputs": [
        {
          "output_type": "execute_result",
          "data": {
            "text/plain": [
              "<matplotlib.axes._subplots.AxesSubplot at 0x2a3c1dae908>"
            ]
          },
          "metadata": {
            "tags": []
          },
          "execution_count": 37
        },
        {
          "output_type": "display_data",
          "data": {
            "image/png": "[encoded data removed]",
            "text/plain": [
              "<Figure size 432x288 with 1 Axes>"
            ]
          },
          "metadata": {
            "tags": []
          }
        }
      ]
    },
    {
      "cell_type": "code",
      "metadata": {
        "id": "rUyiEVYg9_I2",
        "colab_type": "code",
        "outputId": "05b57d23-9b30-48d4-8cb1-5d5c53925171",
        "colab": {}
      },
      "source": [
        "sns.boxplot(Borrower_Loan_payment['loan_amnt'])"
      ],
      "execution_count": 0,
      "outputs": [
        {
          "output_type": "execute_result",
          "data": {
            "text/plain": [
              "<matplotlib.axes._subplots.AxesSubplot at 0x2a3af001908>"
            ]
          },
          "metadata": {
            "tags": []
          },
          "execution_count": 38
        },
        {
          "output_type": "display_data",
          "data": {
            "image/png": "[encoded data removed]",
            "text/plain": [
              "<Figure size 432x288 with 1 Axes>"
            ]
          },
          "metadata": {
            "tags": []
          }
        }
      ]
    },
    {
      "cell_type": "code",
      "metadata": {
        "id": "WtFbFGqY9_I7",
        "colab_type": "code",
        "outputId": "00a8d229-92fc-4b18-b35b-9cc3774e13e4",
        "colab": {}
      },
      "source": [
        "sns.distplot(Borrower_Loan_payment['loan_amnt'])"
      ],
      "execution_count": 0,
      "outputs": [
        {
          "output_type": "stream",
          "text": [
            "C:\\ProgramData\\Anaconda3\\lib\\site-packages\\matplotlib\\axes\\_axes.py:6462: UserWarning: The 'normed' kwarg is deprecated, and has been replaced by the 'density' kwarg.\n",
            "  warnings.warn(\"The 'normed' kwarg is deprecated, and has been \"\n"
          ],
          "name": "stderr"
        },
        {
          "output_type": "execute_result",
          "data": {
            "text/plain": [
              "<matplotlib.axes._subplots.AxesSubplot at 0x2a3bee451d0>"
            ]
          },
          "metadata": {
            "tags": []
          },
          "execution_count": 39
        },
        {
          "output_type": "display_data",
          "data": {
            "image/png": "[encoded data removed]",
            "text/plain": [
              "<Figure size 432x288 with 1 Axes>"
            ]
          },
          "metadata": {
            "tags": []
          }
        }
      ]
    },
    {
      "cell_type": "code",
      "metadata": {
        "id": "cDWVJBQM9_I8",
        "colab_type": "code",
        "outputId": "85c1cfc2-7cd4-462b-d9ca-a6b4ceb7eaab",
        "colab": {}
      },
      "source": [
        "sns.barplot('issue_year','loan_amnt',hue='application_type',data=Borrower_Loan_payment,palette=\"inferno\")"
      ],
      "execution_count": 0,
      "outputs": [
        {
          "output_type": "execute_result",
          "data": {
            "text/plain": [
              "<matplotlib.axes._subplots.AxesSubplot at 0x2a3c31efbe0>"
            ]
          },
          "metadata": {
            "tags": []
          },
          "execution_count": 40
        },
        {
          "output_type": "display_data",
          "data": {
            "image/png": "[encoded data removed]",
            "text/plain": [
              "<Figure size 432x288 with 1 Axes>"
            ]
          },
          "metadata": {
            "tags": []
          }
        }
      ]
    },
    {
      "cell_type": "code",
      "metadata": {
        "id": "7JfnGPXQ9_JA",
        "colab_type": "code",
        "colab": {}
      },
      "source": [
        "# idx_sorted = HighRisk_data.groupby('purpose').mean().\\\n",
        "#            sort_values('term', ascending=False).index\n",
        "# ax = sns.catplot(x='term', y='purpose', data=HighRisk_data, ci=None,\n",
        "#              col='Risk', palette='inferno', order=idx_sorted, kind='bar', height=6)\n"
      ],
      "execution_count": 0,
      "outputs": []
    },
    {
      "cell_type": "code",
      "metadata": {
        "id": "rbNUpVGO9_JC",
        "colab_type": "code",
        "colab": {}
      },
      "source": [
        "# fig, ax = plt.subplots(2, 3, figsize=(20, 20))\n",
        "# sns.distplot(Borrower_Loan_payment['delinq_2yrs'],bins= 5)"
      ],
      "execution_count": 0,
      "outputs": []
    },
    {
      "cell_type": "code",
      "metadata": {
        "id": "qFyAMvil9_JE",
        "colab_type": "code",
        "outputId": "9c578caf-7541-40f9-8837-afbc3cfa7097",
        "colab": {}
      },
      "source": [
        "sns.countplot(y=\"delinq_2yrs\", hue=\"Risk\", data=HighRisk_data, palette=\"inferno\")"
      ],
      "execution_count": 0,
      "outputs": [
        {
          "output_type": "execute_result",
          "data": {
            "text/plain": [
              "<matplotlib.axes._subplots.AxesSubplot at 0x2a3c68f2cc0>"
            ]
          },
          "metadata": {
            "tags": []
          },
          "execution_count": 52
        },
        {
          "output_type": "display_data",
          "data": {
            "image/png": "[encoded data removed]",
            "text/plain": [
              "<Figure size 432x288 with 1 Axes>"
            ]
          },
          "metadata": {
            "tags": []
          }
        }
      ]
    },
    {
      "cell_type": "code",
      "metadata": {
        "id": "aK1rM6a19_JH",
        "colab_type": "code",
        "outputId": "fb96acf6-74b6-4d96-8778-75ccc178814b",
        "colab": {}
      },
      "source": [
        "sns.countplot(y=\"addr_state\", hue=\"Risk\", data=Borrower_Loan_payment, palette=\"inferno\",\n",
        "              order=Borrower_Loan_payment.addr_state.value_counts().iloc[:10].index)"
      ],
      "execution_count": 0,
      "outputs": [
        {
          "output_type": "execute_result",
          "data": {
            "text/plain": [
              "<matplotlib.axes._subplots.AxesSubplot at 0x2a3c41c8198>"
            ]
          },
          "metadata": {
            "tags": []
          },
          "execution_count": 51
        },
        {
          "output_type": "display_data",
          "data": {
            "image/png": "[encoded data removed]",
            "text/plain": [
              "<Figure size 432x288 with 1 Axes>"
            ]
          },
          "metadata": {
            "tags": []
          }
        }
      ]
    },
    {
      "cell_type": "code",
      "metadata": {
        "id": "Aoz2ltXg9_JJ",
        "colab_type": "code",
        "outputId": "1787eec8-6636-430e-d758-4f07d7728445",
        "colab": {}
      },
      "source": [
        "fig, ax = plt.subplots(2, 3, figsize=(20, 20))\n",
        "categorical=['loan_status','Risk','purpose','home_ownership','grade',  'addr_state']\n",
        "for variable, subplot in zip(categorical, ax.flatten()):\n",
        "    sns.countplot(Borrower_Loan_payment[variable], ax=subplot, palette=\"inferno\")\n",
        "    for label in subplot.get_xticklabels():\n",
        "        label.set_rotation(45)"
      ],
      "execution_count": 0,
      "outputs": [
        {
          "output_type": "display_data",
          "data": {
            "image/png": "[encoded data removed]",
            "text/plain": [
              "<Figure size 1440x1440 with 6 Axes>"
            ]
          },
          "metadata": {
            "tags": []
          }
        }
      ]
    },
    {
      "cell_type": "code",
      "metadata": {
        "id": "EsUxyAT39_JL",
        "colab_type": "code",
        "outputId": "c74ae604-3e4d-456b-92ac-ec363d43e741",
        "colab": {}
      },
      "source": [
        "fig, ax=plt.subplots(2,3,figsize=(20,20))\n",
        "for var, subplot in zip(categorical,ax.flatten()):\n",
        "    sns.boxplot(x=var,y='loan_amnt',data=Borrower_Loan_payment,ax=subplot, palette=\"inferno\")\n",
        "    for label in subplot.get_xticklabels():\n",
        "        label.set_rotation(45)"
      ],
      "execution_count": 0,
      "outputs": [
        {
          "output_type": "display_data",
          "data": {
            "image/png": "[encoded data removed]",
            "text/plain": [
              "<Figure size 1440x1440 with 6 Axes>"
            ]
          },
          "metadata": {
            "tags": []
          }
        }
      ]
    },
    {
      "cell_type": "code",
      "metadata": {
        "id": "M0DX5uPK9_JO",
        "colab_type": "code",
        "outputId": "a57b0194-fc84-4bef-849b-e1ecfd6eb2d2",
        "colab": {}
      },
      "source": [
        "state_sorted = Borrower_Loan_payment.groupby('addr_state').mean()['loan_amnt'].sort_values(ascending=False).index\n",
        "fig, ax = plt.subplots(figsize=(12, 6))\n",
        "ax = sns.barplot(x='loan_amnt', y='addr_state', data=Borrower_Loan_payment, ci=None,palette=\"inferno\")#, order=idx_sorted )\n",
        "ax.set_title('Loan AMount by state', size=14)\n",
        "\n",
        "\n",
        "# state_sorted=Borrower_Loan_payment.groupby(['addr_state'])['loan_amnt'].median().sort_values()\n",
        "# sns.boxplot(x=Borrower_Loan_payment['addr_state'],y=Borrower_Loan_payment['loan_amnt'],order=list(state_sorted.index))"
      ],
      "execution_count": 0,
      "outputs": [
        {
          "output_type": "execute_result",
          "data": {
            "text/plain": [
              "Text(0.5,1,'Loan AMount by state')"
            ]
          },
          "metadata": {
            "tags": []
          },
          "execution_count": 59
        },
        {
          "output_type": "display_data",
          "data": {
            "image/png": "[encoded data removed]",
            "text/plain": [
              "<Figure size 864x432 with 1 Axes>"
            ]
          },
          "metadata": {
            "tags": []
          }
        }
      ]
    },
    {
      "cell_type": "markdown",
      "metadata": {
        "id": "mK7xcGoX9_JQ",
        "colab_type": "text"
      },
      "source": [
        "###### Correlation\n",
        "Observations:\n",
        "1. Risk have correlation with Annual Income,Revolving Balance, Funded Amount, Loan Amount"
      ]
    },
    {
      "cell_type": "code",
      "metadata": {
        "id": "5KzVtr2N9_JR",
        "colab_type": "code",
        "outputId": "6aa6cc86-b7ac-4b83-b111-e66602906886",
        "colab": {}
      },
      "source": [
        "corr=HighRisk_data.corr()\n",
        "# corr=Borrower_Loan_payment.corr()\n",
        "sns.heatmap(corr,cmap='coolwarm_r',annot=False, fmt = \".2f\")"
      ],
      "execution_count": 0,
      "outputs": [
        {
          "output_type": "execute_result",
          "data": {
            "text/plain": [
              "<matplotlib.axes._subplots.AxesSubplot at 0x1520d2f2b00>"
            ]
          },
          "metadata": {
            "tags": []
          },
          "execution_count": 101
        },
        {
          "output_type": "display_data",
          "data": {
            "image/png": "[encoded data removed]",
            "text/plain": [
              "<Figure size 432x288 with 2 Axes>"
            ]
          },
          "metadata": {
            "tags": []
          }
        }
      ]
    },
    {
      "cell_type": "code",
      "metadata": {
        "id": "jp8N0KAq9_JT",
        "colab_type": "code",
        "colab": {}
      },
      "source": [
        "Borrower_Loan_payment.revol_util = pd.qcut(Borrower_Loan_payment.revol_util.values, 5).codes"
      ],
      "execution_count": 0,
      "outputs": []
    },
    {
      "cell_type": "code",
      "metadata": {
        "id": "MbOmC_ig9_JU",
        "colab_type": "code",
        "outputId": "468055db-d8a4-4566-a321-6fb4946ca7a4",
        "colab": {}
      },
      "source": [
        "# idx_sorted = Borrower_Loan_payment.groupby('purpose').mean()['funded_amnt'].sort_values(ascending=False).index\n",
        "fig, ax = plt.subplots(figsize=(12, 6))\n",
        "ax = sns.barplot(x='loan_amnt', y='purpose', data=Borrower_Loan_payment, ci=None,palette=\"inferno\")#, order=idx_sorted )\n",
        "ax.set_title('Loan Amount by Purpose', size=14)"
      ],
      "execution_count": 0,
      "outputs": [
        {
          "output_type": "execute_result",
          "data": {
            "text/plain": [
              "Text(0.5,1,'Loan Amount by Purpose')"
            ]
          },
          "metadata": {
            "tags": []
          },
          "execution_count": 58
        },
        {
          "output_type": "display_data",
          "data": {
            "image/png": "[encoded data removed]",
            "text/plain": [
              "<Figure size 864x432 with 1 Axes>"
            ]
          },
          "metadata": {
            "tags": []
          }
        }
      ]
    },
    {
      "cell_type": "code",
      "metadata": {
        "id": "kCvbhaOW9_JW",
        "colab_type": "code",
        "outputId": "5f581e12-5ec7-4364-ad46-79f035c65d82",
        "colab": {}
      },
      "source": [
        "plt.plot(Borrower_Loan_payment['revol_util'],Borrower_Loan_payment['revol_util'])"
      ],
      "execution_count": 0,
      "outputs": [
        {
          "output_type": "execute_result",
          "data": {
            "text/plain": [
              "[<matplotlib.lines.Line2D at 0x2a3fb90a4a8>]"
            ]
          },
          "metadata": {
            "tags": []
          },
          "execution_count": 62
        },
        {
          "output_type": "display_data",
          "data": {
            "image/png": "[encoded data removed]",
            "text/plain": [
              "<Figure size 432x288 with 1 Axes>"
            ]
          },
          "metadata": {
            "tags": []
          }
        }
      ]
    },
    {
      "cell_type": "markdown",
      "metadata": {
        "id": "Aj9T8ydM9_JX",
        "colab_type": "text"
      },
      "source": [
        "#### checking if the delinq_2yrs  is having any effect on Target or not "
      ]
    },
    {
      "cell_type": "markdown",
      "metadata": {
        "id": "OSn-CSp99_JY",
        "colab_type": "text"
      },
      "source": [
        "#### Cross Tabulations "
      ]
    },
    {
      "cell_type": "markdown",
      "metadata": {
        "id": "RZIyfvNO9_JY",
        "colab_type": "text"
      },
      "source": [
        "CrossTabulations are great way to see the frequency and percentage of the features.\n",
        "\n",
        "Below we can see crosstab of Risk vs Purpose."
      ]
    },
    {
      "cell_type": "code",
      "metadata": {
        "id": "YqMsML4Y9_JY",
        "colab_type": "code",
        "outputId": "d7636dce-2701-4ecf-af28-86a3f2e72682",
        "colab": {}
      },
      "source": [
        "pd.crosstab(Borrower_Loan_payment['loan_status'], Borrower_Loan_payment['Risk']).apply(lambda r: round(r/len(Borrower_Loan_payment) *100 ,2), axis=1)"
      ],
      "execution_count": 0,
      "outputs": [
        {
          "output_type": "execute_result",
          "data": {
            "text/html": [
              "<div>\n",
              "<style scoped>\n",
              "    .dataframe tbody tr th:only-of-type {\n",
              "        vertical-align: middle;\n",
              "    }\n",
              "\n",
              "    .dataframe tbody tr th {\n",
              "        vertical-align: top;\n",
              "    }\n",
              "\n",
              "    .dataframe thead th {\n",
              "        text-align: right;\n",
              "    }\n",
              "</style>\n",
              "<table border=\"1\" class=\"dataframe\">\n",
              "  <thead>\n",
              "    <tr style=\"text-align: right;\">\n",
              "      <th>Risk</th>\n",
              "      <th>0</th>\n",
              "      <th>1</th>\n",
              "    </tr>\n",
              "    <tr>\n",
              "      <th>loan_status</th>\n",
              "      <th></th>\n",
              "      <th></th>\n",
              "    </tr>\n",
              "  </thead>\n",
              "  <tbody>\n",
              "    <tr>\n",
              "      <th>Charged Off</th>\n",
              "      <td>0.00</td>\n",
              "      <td>5.10</td>\n",
              "    </tr>\n",
              "    <tr>\n",
              "      <th>Current</th>\n",
              "      <td>67.82</td>\n",
              "      <td>0.00</td>\n",
              "    </tr>\n",
              "    <tr>\n",
              "      <th>Default</th>\n",
              "      <td>0.00</td>\n",
              "      <td>0.14</td>\n",
              "    </tr>\n",
              "    <tr>\n",
              "      <th>Does not meet the credit policy. Status:Charged Off</th>\n",
              "      <td>0.00</td>\n",
              "      <td>0.09</td>\n",
              "    </tr>\n",
              "    <tr>\n",
              "      <th>Does not meet the credit policy. Status:Fully Paid</th>\n",
              "      <td>0.22</td>\n",
              "      <td>0.00</td>\n",
              "    </tr>\n",
              "    <tr>\n",
              "      <th>Fully Paid</th>\n",
              "      <td>23.41</td>\n",
              "      <td>0.00</td>\n",
              "    </tr>\n",
              "    <tr>\n",
              "      <th>In Grace Period</th>\n",
              "      <td>0.00</td>\n",
              "      <td>0.70</td>\n",
              "    </tr>\n",
              "    <tr>\n",
              "      <th>Issued</th>\n",
              "      <td>0.95</td>\n",
              "      <td>0.00</td>\n",
              "    </tr>\n",
              "    <tr>\n",
              "      <th>Late (16-30 days)</th>\n",
              "      <td>0.00</td>\n",
              "      <td>0.27</td>\n",
              "    </tr>\n",
              "    <tr>\n",
              "      <th>Late (31-120 days)</th>\n",
              "      <td>0.00</td>\n",
              "      <td>1.31</td>\n",
              "    </tr>\n",
              "  </tbody>\n",
              "</table>\n",
              "</div>"
            ],
            "text/plain": [
              "Risk                                                    0     1\n",
              "loan_status                                                    \n",
              "Charged Off                                          0.00  5.10\n",
              "Current                                             67.82  0.00\n",
              "Default                                              0.00  0.14\n",
              "Does not meet the credit policy. Status:Charged...   0.00  0.09\n",
              "Does not meet the credit policy. Status:Fully Paid   0.22  0.00\n",
              "Fully Paid                                          23.41  0.00\n",
              "In Grace Period                                      0.00  0.70\n",
              "Issued                                               0.95  0.00\n",
              "Late (16-30 days)                                    0.00  0.27\n",
              "Late (31-120 days)                                   0.00  1.31"
            ]
          },
          "metadata": {
            "tags": []
          },
          "execution_count": 133
        }
      ]
    },
    {
      "cell_type": "code",
      "metadata": {
        "id": "_DM3yuYy9_Ja",
        "colab_type": "code",
        "colab": {}
      },
      "source": [
        "pd.crosstab(Borrower_Loan_payment['annual_inc_bin'], Borrower_Loan_payment['Risk']).apply(lambda r: round(r/len(Borrower_Loan_payment) *100 ,4), axis=1)"
      ],
      "execution_count": 0,
      "outputs": []
    },
    {
      "cell_type": "code",
      "metadata": {
        "id": "-8LYsjyh9_Jc",
        "colab_type": "code",
        "colab": {}
      },
      "source": [
        "pd.crosstab(Borrower_Loan_payment['addr_state'], Borrower_Loan_payment['Risk']).apply(lambda r: round(r/len(Borrower_Loan_payment) *100 ,4), axis=1)"
      ],
      "execution_count": 0,
      "outputs": []
    },
    {
      "cell_type": "code",
      "metadata": {
        "id": "vq5fMA249_Je",
        "colab_type": "code",
        "colab": {}
      },
      "source": [
        "pd.crosstab(Borrower_Loan_payment['loan_status'], Borrower_Loan_payment['Risk']).apply(lambda r: round(r/len(Borrower_Loan_payment) *100 ,2), axis=1)"
      ],
      "execution_count": 0,
      "outputs": []
    },
    {
      "cell_type": "code",
      "metadata": {
        "id": "3l26zO7n9_Jf",
        "colab_type": "code",
        "colab": {}
      },
      "source": [
        "pd.crosstab(Borrower_Loan_payment['purpose'], Borrower_Loan_payment['Risk']).apply(lambda r: round(r/len(Borrower_Loan_payment) *100 ,2), axis=1)"
      ],
      "execution_count": 0,
      "outputs": []
    },
    {
      "cell_type": "code",
      "metadata": {
        "id": "LezLwx1X9_Jg",
        "colab_type": "code",
        "colab": {}
      },
      "source": [
        "pd.crosstab(Borrower_Loan_payment['home_ownership'], Borrower_Loan_payment['Risk']).apply(lambda r: round(r/len(Borrower_Loan_payment) *100 ,2), axis=1)"
      ],
      "execution_count": 0,
      "outputs": []
    },
    {
      "cell_type": "code",
      "metadata": {
        "id": "vvh3UqUC9_Jj",
        "colab_type": "code",
        "colab": {}
      },
      "source": [
        "pd.crosstab(Borrower_Loan_payment['home_ownership'], Borrower_Loan_payment['purpose'])"
      ],
      "execution_count": 0,
      "outputs": []
    },
    {
      "cell_type": "code",
      "metadata": {
        "id": "FLAYFKHh9_Jk",
        "colab_type": "code",
        "colab": {}
      },
      "source": [
        "pd.crosstab(Borrower_Loan_payment['home_ownership'], Borrower_Loan_payment['delinq_2yrs']).apply(lambda r: r/len(Borrower_Loan_payment), axis=1)\n"
      ],
      "execution_count": 0,
      "outputs": []
    },
    {
      "cell_type": "code",
      "metadata": {
        "id": "kuhTkMNA9_Jl",
        "colab_type": "code",
        "colab": {}
      },
      "source": [
        "pd.crosstab(HighRisk['home_ownership'], HighRisk['Risk']).apply(lambda r: r/len(HighRisk), axis=1)"
      ],
      "execution_count": 0,
      "outputs": []
    },
    {
      "cell_type": "code",
      "metadata": {
        "id": "_RJvcksh9_Jo",
        "colab_type": "code",
        "colab": {}
      },
      "source": [
        "pd.crosstab(HighRisk['home_ownership'], HighRisk['delinq_2yrs']).apply(lambda r: r/len(HighRisk), axis=1)\n"
      ],
      "execution_count": 0,
      "outputs": []
    },
    {
      "cell_type": "code",
      "metadata": {
        "id": "MUGvWo2n9_Jp",
        "colab_type": "code",
        "colab": {}
      },
      "source": [
        "# pd.crosstab(Borrower_Loan_payment['delinq_2yrs'], Borrower_Loan_payment['Risk']).apply(lambda r: r/len(Borrower_Loan_payment), axis=1)\n",
        "pd.crosstab(Borrower_Loan_payment['Risk'], Borrower_Loan_payment['delinq_2yrs']).apply(lambda r: r/len(Borrower_Loan_payment), axis=1)\n"
      ],
      "execution_count": 0,
      "outputs": []
    },
    {
      "cell_type": "markdown",
      "metadata": {
        "id": "9NWRmn8g9_Jq",
        "colab_type": "text"
      },
      "source": [
        "## 4. Feature Engineering"
      ]
    },
    {
      "cell_type": "markdown",
      "metadata": {
        "id": "aB9zLFEY9_Jq",
        "colab_type": "text"
      },
      "source": [
        "##### Dropping Irrelevant Columns"
      ]
    },
    {
      "cell_type": "code",
      "metadata": {
        "id": "zEL8vyTY9_Jr",
        "colab_type": "code",
        "colab": {}
      },
      "source": [
        "# New=Borrower_Loan_payment.drop(['index','member_id','id'],axis=1)\n",
        "Borrower_Loan_payment.drop(['earliest_cr_line_month', 'earliest_cr_line_year', 'issue_month',\n",
        "       'issue_year', 'last_pymnt_month', 'last_pymnt_year',\n",
        "       'last_credit_pull_month', 'last_credit_pull_year', 'next_pymnt_month',\n",
        "       'next_pymnt_year','index'],axis=1,inplace=True)"
      ],
      "execution_count": 0,
      "outputs": []
    },
    {
      "cell_type": "markdown",
      "metadata": {
        "id": "Btk6ep0N9_Js",
        "colab_type": "text"
      },
      "source": [
        "##### Weight of Evidence and IV"
      ]
    },
    {
      "cell_type": "markdown",
      "metadata": {
        "id": "heiCkAtv9_Js",
        "colab_type": "text"
      },
      "source": [
        "Weight of evidence (WOE) and Information value (IV) are simple, yet powerful techniques to perform variable transformation and selection. These concepts have huge connection with the logistic regression modeling technique. It is widely used in credit scoring to measure the separation of good vs bad customers.\n",
        "\n",
        "Also, IV value can be used to select variables quickly.\n",
        "\n"
      ]
    },
    {
      "cell_type": "markdown",
      "metadata": {
        "id": "SGRckUJH9_Js",
        "colab_type": "text"
      },
      "source": [
        "<img src=\"IV.png\">"
      ]
    },
    {
      "cell_type": "code",
      "metadata": {
        "id": "ooEvrGC09_Jt",
        "colab_type": "code",
        "colab": {}
      },
      "source": [
        "Borrower_Loan_payment.columns"
      ],
      "execution_count": 0,
      "outputs": []
    },
    {
      "cell_type": "code",
      "metadata": {
        "id": "dJaWUIYU9_Jv",
        "colab_type": "code",
        "outputId": "e9f7b243-57fa-48ee-83b3-88142333d511",
        "colab": {}
      },
      "source": [
        "def Calculate_WOE_IV(dataframe, x, y ):\n",
        "    H=pd.crosstab(dataframe[x],dataframe[y],margins=True) \n",
        "    H=H[:-1]\n",
        "    G=pd.crosstab(dataframe[x], dataframe[y], normalize=True)\n",
        "    Result=pd.concat([H, G], axis=1)\n",
        "    Result.columns=['LowRisk Count','HighRisk Count','Total Count','LowRiskPct','HighRiskPct']\n",
        "    Result['woe']=round(np.log(Result['LowRiskPct']/Result['HighRiskPct']),2)\n",
        "    Result['IV']=((Result['LowRiskPct']- Result['HighRiskPct']) *Result['woe'])\n",
        "    Result.sort_values(by=x)\n",
        "    print(x,'has IV value =',Result['IV'].mean())\n",
        "\n",
        "for i in range(len(Borrower_Loan_payment.columns)):\n",
        "    print(Borrower_Loan_payment.columns[i])\n",
        "    Calculate_WOE_IV(Borrower_Loan_payment, Borrower_Loan_payment.columns[i], 'Risk' )"
      ],
      "execution_count": 0,
      "outputs": [
        {
          "output_type": "stream",
          "text": [
            "emp_title\n"
          ],
          "name": "stdout"
        },
        {
          "output_type": "error",
          "ename": "ValueError",
          "evalue": "Conflicting name \"All\" in margins",
          "traceback": [
            "\u001b[1;31m---------------------------------------------------------------------------\u001b[0m",
            "\u001b[1;31mValueError\u001b[0m                                Traceback (most recent call last)",
            "\u001b[1;32m<ipython-input-35-1a0b0a827e01>\u001b[0m in \u001b[0;36m<module>\u001b[1;34m()\u001b[0m\n\u001b[0;32m     12\u001b[0m \u001b[1;32mfor\u001b[0m \u001b[0mi\u001b[0m \u001b[1;32min\u001b[0m \u001b[0mrange\u001b[0m\u001b[1;33m(\u001b[0m\u001b[0mlen\u001b[0m\u001b[1;33m(\u001b[0m\u001b[0mBorrower_Loan_payment\u001b[0m\u001b[1;33m.\u001b[0m\u001b[0mcolumns\u001b[0m\u001b[1;33m)\u001b[0m\u001b[1;33m)\u001b[0m\u001b[1;33m:\u001b[0m\u001b[1;33m\u001b[0m\u001b[0m\n\u001b[0;32m     13\u001b[0m     \u001b[0mprint\u001b[0m\u001b[1;33m(\u001b[0m\u001b[0mBorrower_Loan_payment\u001b[0m\u001b[1;33m.\u001b[0m\u001b[0mcolumns\u001b[0m\u001b[1;33m[\u001b[0m\u001b[0mi\u001b[0m\u001b[1;33m]\u001b[0m\u001b[1;33m)\u001b[0m\u001b[1;33m\u001b[0m\u001b[0m\n\u001b[1;32m---> 14\u001b[1;33m     \u001b[0mCalculate_WOE_IV\u001b[0m\u001b[1;33m(\u001b[0m\u001b[0mBorrower_Loan_payment\u001b[0m\u001b[1;33m,\u001b[0m \u001b[0mBorrower_Loan_payment\u001b[0m\u001b[1;33m.\u001b[0m\u001b[0mcolumns\u001b[0m\u001b[1;33m[\u001b[0m\u001b[0mi\u001b[0m\u001b[1;33m]\u001b[0m\u001b[1;33m,\u001b[0m \u001b[1;34m'Risk'\u001b[0m \u001b[1;33m)\u001b[0m\u001b[1;33m\u001b[0m\u001b[0m\n\u001b[0m",
            "\u001b[1;32m<ipython-input-35-1a0b0a827e01>\u001b[0m in \u001b[0;36mCalculate_WOE_IV\u001b[1;34m(dataframe, x, y)\u001b[0m\n\u001b[0;32m      1\u001b[0m \u001b[1;32mdef\u001b[0m \u001b[0mCalculate_WOE_IV\u001b[0m\u001b[1;33m(\u001b[0m\u001b[0mdataframe\u001b[0m\u001b[1;33m,\u001b[0m \u001b[0mx\u001b[0m\u001b[1;33m,\u001b[0m \u001b[0my\u001b[0m \u001b[1;33m)\u001b[0m\u001b[1;33m:\u001b[0m\u001b[1;33m\u001b[0m\u001b[0m\n\u001b[1;32m----> 2\u001b[1;33m     \u001b[0mH\u001b[0m\u001b[1;33m=\u001b[0m\u001b[0mpd\u001b[0m\u001b[1;33m.\u001b[0m\u001b[0mcrosstab\u001b[0m\u001b[1;33m(\u001b[0m\u001b[0mdataframe\u001b[0m\u001b[1;33m[\u001b[0m\u001b[0mx\u001b[0m\u001b[1;33m]\u001b[0m\u001b[1;33m,\u001b[0m\u001b[0mdataframe\u001b[0m\u001b[1;33m[\u001b[0m\u001b[0my\u001b[0m\u001b[1;33m]\u001b[0m\u001b[1;33m,\u001b[0m\u001b[0mmargins\u001b[0m\u001b[1;33m=\u001b[0m\u001b[1;32mTrue\u001b[0m\u001b[1;33m)\u001b[0m\u001b[1;33m\u001b[0m\u001b[0m\n\u001b[0m\u001b[0;32m      3\u001b[0m     \u001b[0mH\u001b[0m\u001b[1;33m=\u001b[0m\u001b[0mH\u001b[0m\u001b[1;33m[\u001b[0m\u001b[1;33m:\u001b[0m\u001b[1;33m-\u001b[0m\u001b[1;36m1\u001b[0m\u001b[1;33m]\u001b[0m\u001b[1;33m\u001b[0m\u001b[0m\n\u001b[0;32m      4\u001b[0m     \u001b[0mG\u001b[0m\u001b[1;33m=\u001b[0m\u001b[0mpd\u001b[0m\u001b[1;33m.\u001b[0m\u001b[0mcrosstab\u001b[0m\u001b[1;33m(\u001b[0m\u001b[0mdataframe\u001b[0m\u001b[1;33m[\u001b[0m\u001b[0mx\u001b[0m\u001b[1;33m]\u001b[0m\u001b[1;33m,\u001b[0m \u001b[0mdataframe\u001b[0m\u001b[1;33m[\u001b[0m\u001b[0my\u001b[0m\u001b[1;33m]\u001b[0m\u001b[1;33m,\u001b[0m \u001b[0mnormalize\u001b[0m\u001b[1;33m=\u001b[0m\u001b[1;32mTrue\u001b[0m\u001b[1;33m)\u001b[0m\u001b[1;33m\u001b[0m\u001b[0m\n\u001b[0;32m      5\u001b[0m     \u001b[0mResult\u001b[0m\u001b[1;33m=\u001b[0m\u001b[0mpd\u001b[0m\u001b[1;33m.\u001b[0m\u001b[0mconcat\u001b[0m\u001b[1;33m(\u001b[0m\u001b[1;33m[\u001b[0m\u001b[0mH\u001b[0m\u001b[1;33m,\u001b[0m \u001b[0mG\u001b[0m\u001b[1;33m]\u001b[0m\u001b[1;33m,\u001b[0m \u001b[0maxis\u001b[0m\u001b[1;33m=\u001b[0m\u001b[1;36m1\u001b[0m\u001b[1;33m)\u001b[0m\u001b[1;33m\u001b[0m\u001b[0m\n",
            "\u001b[1;32mC:\\ProgramData\\Anaconda3\\lib\\site-packages\\pandas\\core\\reshape\\pivot.py\u001b[0m in \u001b[0;36mcrosstab\u001b[1;34m(index, columns, values, rownames, colnames, aggfunc, margins, margins_name, dropna, normalize)\u001b[0m\n\u001b[0;32m    474\u001b[0m     table = df.pivot_table('__dummy__', index=rownames, columns=colnames,\n\u001b[0;32m    475\u001b[0m                            \u001b[0mmargins\u001b[0m\u001b[1;33m=\u001b[0m\u001b[0mmargins\u001b[0m\u001b[1;33m,\u001b[0m \u001b[0mmargins_name\u001b[0m\u001b[1;33m=\u001b[0m\u001b[0mmargins_name\u001b[0m\u001b[1;33m,\u001b[0m\u001b[1;33m\u001b[0m\u001b[0m\n\u001b[1;32m--> 476\u001b[1;33m                            dropna=dropna, **kwargs)\n\u001b[0m\u001b[0;32m    477\u001b[0m \u001b[1;33m\u001b[0m\u001b[0m\n\u001b[0;32m    478\u001b[0m     \u001b[1;31m# Post-process\u001b[0m\u001b[1;33m\u001b[0m\u001b[1;33m\u001b[0m\u001b[0m\n",
            "\u001b[1;32mC:\\ProgramData\\Anaconda3\\lib\\site-packages\\pandas\\core\\frame.py\u001b[0m in \u001b[0;36mpivot_table\u001b[1;34m(self, values, index, columns, aggfunc, fill_value, margins, dropna, margins_name)\u001b[0m\n\u001b[0;32m   5298\u001b[0m                            \u001b[0maggfunc\u001b[0m\u001b[1;33m=\u001b[0m\u001b[0maggfunc\u001b[0m\u001b[1;33m,\u001b[0m \u001b[0mfill_value\u001b[0m\u001b[1;33m=\u001b[0m\u001b[0mfill_value\u001b[0m\u001b[1;33m,\u001b[0m\u001b[1;33m\u001b[0m\u001b[0m\n\u001b[0;32m   5299\u001b[0m                            \u001b[0mmargins\u001b[0m\u001b[1;33m=\u001b[0m\u001b[0mmargins\u001b[0m\u001b[1;33m,\u001b[0m \u001b[0mdropna\u001b[0m\u001b[1;33m=\u001b[0m\u001b[0mdropna\u001b[0m\u001b[1;33m,\u001b[0m\u001b[1;33m\u001b[0m\u001b[0m\n\u001b[1;32m-> 5300\u001b[1;33m                            margins_name=margins_name)\n\u001b[0m\u001b[0;32m   5301\u001b[0m \u001b[1;33m\u001b[0m\u001b[0m\n\u001b[0;32m   5302\u001b[0m     \u001b[1;32mdef\u001b[0m \u001b[0mstack\u001b[0m\u001b[1;33m(\u001b[0m\u001b[0mself\u001b[0m\u001b[1;33m,\u001b[0m \u001b[0mlevel\u001b[0m\u001b[1;33m=\u001b[0m\u001b[1;33m-\u001b[0m\u001b[1;36m1\u001b[0m\u001b[1;33m,\u001b[0m \u001b[0mdropna\u001b[0m\u001b[1;33m=\u001b[0m\u001b[1;32mTrue\u001b[0m\u001b[1;33m)\u001b[0m\u001b[1;33m:\u001b[0m\u001b[1;33m\u001b[0m\u001b[0m\n",
            "\u001b[1;32mC:\\ProgramData\\Anaconda3\\lib\\site-packages\\pandas\\core\\reshape\\pivot.py\u001b[0m in \u001b[0;36mpivot_table\u001b[1;34m(data, values, index, columns, aggfunc, fill_value, margins, dropna, margins_name)\u001b[0m\n\u001b[0;32m    122\u001b[0m                              \u001b[0mcols\u001b[0m\u001b[1;33m=\u001b[0m\u001b[0mcolumns\u001b[0m\u001b[1;33m,\u001b[0m \u001b[0maggfunc\u001b[0m\u001b[1;33m=\u001b[0m\u001b[0maggfunc\u001b[0m\u001b[1;33m,\u001b[0m\u001b[1;33m\u001b[0m\u001b[0m\n\u001b[0;32m    123\u001b[0m                              \u001b[0mobserved\u001b[0m\u001b[1;33m=\u001b[0m\u001b[0mdropna\u001b[0m\u001b[1;33m,\u001b[0m\u001b[1;33m\u001b[0m\u001b[0m\n\u001b[1;32m--> 124\u001b[1;33m                              margins_name=margins_name, fill_value=fill_value)\n\u001b[0m\u001b[0;32m    125\u001b[0m \u001b[1;33m\u001b[0m\u001b[0m\n\u001b[0;32m    126\u001b[0m     \u001b[1;31m# discard the top level\u001b[0m\u001b[1;33m\u001b[0m\u001b[1;33m\u001b[0m\u001b[0m\n",
            "\u001b[1;32mC:\\ProgramData\\Anaconda3\\lib\\site-packages\\pandas\\core\\reshape\\pivot.py\u001b[0m in \u001b[0;36m_add_margins\u001b[1;34m(table, data, values, rows, cols, aggfunc, observed, margins_name, fill_value)\u001b[0m\n\u001b[0;32m    147\u001b[0m     \u001b[1;32mfor\u001b[0m \u001b[0mlevel\u001b[0m \u001b[1;32min\u001b[0m \u001b[0mtable\u001b[0m\u001b[1;33m.\u001b[0m\u001b[0mindex\u001b[0m\u001b[1;33m.\u001b[0m\u001b[0mnames\u001b[0m\u001b[1;33m:\u001b[0m\u001b[1;33m\u001b[0m\u001b[0m\n\u001b[0;32m    148\u001b[0m         \u001b[1;32mif\u001b[0m \u001b[0mmargins_name\u001b[0m \u001b[1;32min\u001b[0m \u001b[0mtable\u001b[0m\u001b[1;33m.\u001b[0m\u001b[0mindex\u001b[0m\u001b[1;33m.\u001b[0m\u001b[0mget_level_values\u001b[0m\u001b[1;33m(\u001b[0m\u001b[0mlevel\u001b[0m\u001b[1;33m)\u001b[0m\u001b[1;33m:\u001b[0m\u001b[1;33m\u001b[0m\u001b[0m\n\u001b[1;32m--> 149\u001b[1;33m             \u001b[1;32mraise\u001b[0m \u001b[0mValueError\u001b[0m\u001b[1;33m(\u001b[0m\u001b[0mmsg\u001b[0m\u001b[1;33m)\u001b[0m\u001b[1;33m\u001b[0m\u001b[0m\n\u001b[0m\u001b[0;32m    150\u001b[0m \u001b[1;33m\u001b[0m\u001b[0m\n\u001b[0;32m    151\u001b[0m     \u001b[0mgrand_margin\u001b[0m \u001b[1;33m=\u001b[0m \u001b[0m_compute_grand_margin\u001b[0m\u001b[1;33m(\u001b[0m\u001b[0mdata\u001b[0m\u001b[1;33m,\u001b[0m \u001b[0mvalues\u001b[0m\u001b[1;33m,\u001b[0m \u001b[0maggfunc\u001b[0m\u001b[1;33m,\u001b[0m \u001b[0mmargins_name\u001b[0m\u001b[1;33m)\u001b[0m\u001b[1;33m\u001b[0m\u001b[0m\n",
            "\u001b[1;31mValueError\u001b[0m: Conflicting name \"All\" in margins"
          ]
        }
      ]
    },
    {
      "cell_type": "code",
      "metadata": {
        "id": "HOJNDF4w9_Jw",
        "colab_type": "code",
        "colab": {}
      },
      "source": [
        "# x='emp_title'\n",
        "# H=pd.crosstab(Test[x], Test['Risk'], margins=True)                                                                                 \n",
        "# H=H[:-1]\n",
        "# G=pd.crosstab(Test[x], Test['Risk'], normalize=True)\n",
        "# Result=pd.concat([H, G], axis=1)\n",
        "# Result.columns=['LowRisk Count','HighRisk Count','Total Count','LowRiskPct','HighRiskPct']\n",
        "# Result['woe']=round(np.log(Result['LowRiskPct']/Result['HighRiskPct']),2)\n",
        "# Result['IV']=((Result['LowRiskPct']- Result['HighRiskPct']) *Result['woe'])\n",
        "# Result.sort_values(by=x)\n",
        "# # Result.index = range(len(Result.index))\n",
        "# display(Result['IV'].sum())\n",
        "# display(Result)"
      ],
      "execution_count": 0,
      "outputs": []
    },
    {
      "cell_type": "markdown",
      "metadata": {
        "id": "2YfOFZp-9_Jx",
        "colab_type": "text"
      },
      "source": [
        "##### Again Checking for missing Values\n",
        "\n"
      ]
    },
    {
      "cell_type": "markdown",
      "metadata": {
        "id": "SAK_qU3b9_Jx",
        "colab_type": "text"
      },
      "source": [
        "We need to fillna if there is still missing values left in the dataset.\n",
        "Otherwise Model will not work ."
      ]
    },
    {
      "cell_type": "code",
      "metadata": {
        "id": "7LWbRnqZ9_Jy",
        "colab_type": "code",
        "colab": {}
      },
      "source": [
        "Borrower_Loan_payment=Borrower_Loan_payment[pd.notnull(Borrower_Loan_payment['open_acc'])]"
      ],
      "execution_count": 0,
      "outputs": []
    },
    {
      "cell_type": "markdown",
      "metadata": {
        "id": "3D-YyK5r9_Jz",
        "colab_type": "text"
      },
      "source": [
        "##### Diving data into features and Labels"
      ]
    },
    {
      "cell_type": "markdown",
      "metadata": {
        "id": "yGbDwpx49_J0",
        "colab_type": "text"
      },
      "source": [
        "X will contain all the features from dataset and Y will contain only Label i.e. Risk\n"
      ]
    },
    {
      "cell_type": "code",
      "metadata": {
        "id": "1P7Fq56U9_J1",
        "colab_type": "code",
        "colab": {}
      },
      "source": [
        "Borrower_Loan_payment['Risk']=Borrower_Loan_payment['Risk'].apply(lambda x: 0 if x == 'LowRisk' else 1)"
      ],
      "execution_count": 0,
      "outputs": []
    },
    {
      "cell_type": "code",
      "metadata": {
        "id": "xztQZgtR9_J3",
        "colab_type": "code",
        "colab": {}
      },
      "source": [
        "x=Borrower_Loan_payment.drop(['Risk','annual_inc_bin'],axis=1)\n",
        "y=Borrower_Loan_payment['Risk']"
      ],
      "execution_count": 0,
      "outputs": []
    },
    {
      "cell_type": "markdown",
      "metadata": {
        "id": "ufDZW--s9_J7",
        "colab_type": "text"
      },
      "source": [
        "##### One hot encoding"
      ]
    },
    {
      "cell_type": "markdown",
      "metadata": {
        "id": "2hxMUAe39_J8",
        "colab_type": "text"
      },
      "source": [
        "Using Label Encoder is a way of One hot encoding the categorical values.\n",
        "Since Sklearn libraries do not work properly with string varaibles , we need to convert them.\n",
        "\n",
        "\n"
      ]
    },
    {
      "cell_type": "code",
      "metadata": {
        "id": "XO6wa9co9_J8",
        "colab_type": "code",
        "colab": {}
      },
      "source": [
        "le = preprocessing.LabelEncoder()\n",
        "# categorical=['emp_title', 'home_ownership','zip_code','addr_state','grade','sub_grade','loan_status','pymnt_plan',                                'purpose','application_type']\n",
        "for column_name in x.columns:\n",
        "    if x[column_name].dtype == object:\n",
        "        x[column_name] = le.fit_transform(x[column_name])\n",
        "    else:\n",
        "        pass\n"
      ],
      "execution_count": 0,
      "outputs": []
    },
    {
      "cell_type": "markdown",
      "metadata": {
        "id": "8u-CS2O69_J-",
        "colab_type": "text"
      },
      "source": [
        "## 5. Train and Test split"
      ]
    },
    {
      "cell_type": "code",
      "metadata": {
        "id": "TVefR1HN9_J_",
        "colab_type": "code",
        "colab": {}
      },
      "source": [
        "from sklearn.model_selection import train_test_split\n",
        "from sklearn.metrics import confusion_matrix\n",
        "X_train, X_test, Y_train, Y_test= train_test_split(x, y, test_size=0.2,random_state=42, stratify=y )"
      ],
      "execution_count": 0,
      "outputs": []
    },
    {
      "cell_type": "code",
      "metadata": {
        "id": "mEW4A6969_KB",
        "colab_type": "code",
        "colab": {}
      },
      "source": [
        "sss = StratifiedShuffleSplit(n_splits=5, test_size=0.5, random_state=0)\n",
        "sss.get_n_splits(X, y)"
      ],
      "execution_count": 0,
      "outputs": []
    },
    {
      "cell_type": "markdown",
      "metadata": {
        "id": "6uj1R75m9_KC",
        "colab_type": "text"
      },
      "source": [
        "## 5.Model Training"
      ]
    },
    {
      "cell_type": "code",
      "metadata": {
        "id": "xQWUGd129_KE",
        "colab_type": "code",
        "colab": {}
      },
      "source": [
        "def validate(data, labels):\n",
        "    '''\n",
        "    Ten-fold cross-validation with stratified sampling.\n",
        "    '''\n",
        "    accuracy_scores = []\n",
        "    precision_scores = []\n",
        "    recall_scores = []\n",
        "    f1_scores = []\n",
        "\n",
        "    sss = StratifiedShuffleSplit(n_splits=10)\n",
        "    for train_index, test_index in sss.split(data, labels):\n",
        "        x_train, x_test = data[train_index], data[test_index]\n",
        "        y_train, y_test = labels[train_index], labels[test_index]\n",
        "        clf.fit(x_train, y_train)\n",
        "        y_pred = clf.predict(x_test)\n",
        "        accuracy_scores.append(accuracy_score(y_test, y_pred))\n",
        "        precision_scores.append(precision_score(y_test, y_pred))\n",
        "        recall_scores.append(recall_score(y_test, y_pred))\n",
        "        f1_scores.append(f1_score(y_test, y_pred))\n",
        "\n",
        "    print('Accuracy', np.mean(accuracy_scores))\n",
        "    print('Precision', np.mean(precision_scores))\n",
        "    print('Recall', np.mean(recall_scores))\n",
        "    print('F1-measure', np.mean(f1_scores)) "
      ],
      "execution_count": 0,
      "outputs": []
    },
    {
      "cell_type": "code",
      "metadata": {
        "id": "6TA6S2SZ9_KE",
        "colab_type": "code",
        "colab": {}
      },
      "source": [
        "# from sklearn import tree\n",
        "# from sklearn.model_selection import StratifiedShuffleSplit\n",
        "# clf=tree.DecisionTreeClassifier(class_weight='balanced',min_impurity_split=None,max_depth=6, splitter='best')\n",
        "# validate(x,y)"
      ],
      "execution_count": 0,
      "outputs": []
    },
    {
      "cell_type": "code",
      "metadata": {
        "id": "zECREmfV9_KF",
        "colab_type": "code",
        "outputId": "116d2769-666e-41f2-a67d-aff33c928630",
        "colab": {}
      },
      "source": [
        "from sklearn import tree\n",
        "clf2=tree.DecisionTreeClassifier(class_weight='balanced',min_impurity_split=None,max_depth=6, splitter='best')\n",
        "clf2.fit(X_train,Y_train)"
      ],
      "execution_count": 0,
      "outputs": [
        {
          "output_type": "execute_result",
          "data": {
            "text/plain": [
              "DecisionTreeClassifier(class_weight='balanced', criterion='gini', max_depth=6,\n",
              "            max_features=None, max_leaf_nodes=None,\n",
              "            min_impurity_decrease=0.0, min_impurity_split=None,\n",
              "            min_samples_leaf=1, min_samples_split=2,\n",
              "            min_weight_fraction_leaf=0.0, presort=False, random_state=None,\n",
              "            splitter='best')"
            ]
          },
          "metadata": {
            "tags": []
          },
          "execution_count": 42
        }
      ]
    },
    {
      "cell_type": "code",
      "metadata": {
        "id": "2BgKhIwg9_KG",
        "colab_type": "code",
        "outputId": "fb4b1b37-a99b-4d8e-801e-53913e8f62eb",
        "colab": {}
      },
      "source": [
        "Y_pred = clf2.predict(X_test)\n",
        "pd.crosstab(Y_test, Y_pred, rownames=['True'], colnames=['Predicted'], margins=True)"
      ],
      "execution_count": 0,
      "outputs": [
        {
          "output_type": "execute_result",
          "data": {
            "text/html": [
              "<div>\n",
              "<style scoped>\n",
              "    .dataframe tbody tr th:only-of-type {\n",
              "        vertical-align: middle;\n",
              "    }\n",
              "\n",
              "    .dataframe tbody tr th {\n",
              "        vertical-align: top;\n",
              "    }\n",
              "\n",
              "    .dataframe thead th {\n",
              "        text-align: right;\n",
              "    }\n",
              "</style>\n",
              "<table border=\"1\" class=\"dataframe\">\n",
              "  <thead>\n",
              "    <tr style=\"text-align: right;\">\n",
              "      <th>Predicted</th>\n",
              "      <th>0</th>\n",
              "      <th>1</th>\n",
              "      <th>All</th>\n",
              "    </tr>\n",
              "    <tr>\n",
              "      <th>True</th>\n",
              "      <th></th>\n",
              "      <th></th>\n",
              "      <th></th>\n",
              "    </tr>\n",
              "  </thead>\n",
              "  <tbody>\n",
              "    <tr>\n",
              "      <th>0</th>\n",
              "      <td>163985</td>\n",
              "      <td>0</td>\n",
              "      <td>163985</td>\n",
              "    </tr>\n",
              "    <tr>\n",
              "      <th>1</th>\n",
              "      <td>0</td>\n",
              "      <td>13485</td>\n",
              "      <td>13485</td>\n",
              "    </tr>\n",
              "    <tr>\n",
              "      <th>All</th>\n",
              "      <td>163985</td>\n",
              "      <td>13485</td>\n",
              "      <td>177470</td>\n",
              "    </tr>\n",
              "  </tbody>\n",
              "</table>\n",
              "</div>"
            ],
            "text/plain": [
              "Predicted       0      1     All\n",
              "True                            \n",
              "0          163985      0  163985\n",
              "1               0  13485   13485\n",
              "All        163985  13485  177470"
            ]
          },
          "metadata": {
            "tags": []
          },
          "execution_count": 43
        }
      ]
    },
    {
      "cell_type": "code",
      "metadata": {
        "id": "l0hA-gBN9_KH",
        "colab_type": "code",
        "outputId": "f06c4628-baf5-4135-bffb-c60a9595e64c",
        "colab": {}
      },
      "source": [
        "\n",
        "accuracy_score(Y_test,Y_pred)"
      ],
      "execution_count": 0,
      "outputs": [
        {
          "output_type": "execute_result",
          "data": {
            "text/plain": [
              "1.0"
            ]
          },
          "metadata": {
            "tags": []
          },
          "execution_count": 44
        }
      ]
    },
    {
      "cell_type": "code",
      "metadata": {
        "id": "HstScDu69_KI",
        "colab_type": "code",
        "colab": {}
      },
      "source": [
        "# from sklearn import svm\n",
        "# clf3 = svm.SVC(C=2,cache_size=7000,tol=1,class_weight={0:.1,1:.9} )\n",
        "# clf3.fit(X_train,Y_train)"
      ],
      "execution_count": 0,
      "outputs": []
    },
    {
      "cell_type": "code",
      "metadata": {
        "id": "gzBpvEtn9_KI",
        "colab_type": "code",
        "colab": {}
      },
      "source": [
        "# Y_pred = clf3.predict(X_test)\n",
        "# pd.crosstab(Y_test, Y_pred, rownames=['True'], colnames=['Predicted'], margins=True)"
      ],
      "execution_count": 0,
      "outputs": []
    },
    {
      "cell_type": "code",
      "metadata": {
        "id": "2CaPGsm09_KJ",
        "colab_type": "code",
        "colab": {}
      },
      "source": [
        "# accuracy_score(Y_test,Y_pred)"
      ],
      "execution_count": 0,
      "outputs": []
    },
    {
      "cell_type": "code",
      "metadata": {
        "id": "csO03Ipw9_KL",
        "colab_type": "code",
        "outputId": "1cf7426f-660c-4716-d5dc-b639716fd9ab",
        "colab": {}
      },
      "source": [
        "from sklearn import  linear_model\n",
        "clf1= linear_model.LogisticRegression(C=1e5,class_weight= {0:.1, 1:.9} )\n",
        "clf1.fit(X_train,Y_train)"
      ],
      "execution_count": 0,
      "outputs": [
        {
          "output_type": "execute_result",
          "data": {
            "text/plain": [
              "LogisticRegression(C=100000.0, class_weight={0: 0.1, 1: 0.9}, dual=False,\n",
              "          fit_intercept=True, intercept_scaling=1, max_iter=100,\n",
              "          multi_class='ovr', n_jobs=1, penalty='l2', random_state=None,\n",
              "          solver='liblinear', tol=0.0001, verbose=0, warm_start=False)"
            ]
          },
          "metadata": {
            "tags": []
          },
          "execution_count": 45
        }
      ]
    },
    {
      "cell_type": "code",
      "metadata": {
        "id": "QoowN9ej9_KM",
        "colab_type": "code",
        "outputId": "d33382e4-9b9c-4596-f498-3d9e4383d0c3",
        "colab": {}
      },
      "source": [
        "%%time\n",
        "Y_pred = clf1.predict(X_test)\n",
        "# netMat = (Y_pred == Y_test)\n",
        "# clf1.coef_\n",
        "# ind = np.where(Y_test == 1)\n",
        "# Counter(Y_pred[ind])\n",
        "# pd.crosstab(Y_test, Y_pred, rownames=['True'], colnames=['Predicted'], margins=True)"
      ],
      "execution_count": 0,
      "outputs": [
        {
          "output_type": "stream",
          "text": [
            "Wall time: 62.5 ms\n"
          ],
          "name": "stdout"
        }
      ]
    },
    {
      "cell_type": "code",
      "metadata": {
        "id": "ZXLrsRF89_KO",
        "colab_type": "code",
        "outputId": "37a0af8d-c1f5-49c0-c059-f1953214920b",
        "colab": {}
      },
      "source": [
        "pd.crosstab(Y_test, Y_pred, rownames=['True'], colnames=['Predicted'], margins=True)"
      ],
      "execution_count": 0,
      "outputs": [
        {
          "output_type": "execute_result",
          "data": {
            "text/html": [
              "<div>\n",
              "<style scoped>\n",
              "    .dataframe tbody tr th:only-of-type {\n",
              "        vertical-align: middle;\n",
              "    }\n",
              "\n",
              "    .dataframe tbody tr th {\n",
              "        vertical-align: top;\n",
              "    }\n",
              "\n",
              "    .dataframe thead th {\n",
              "        text-align: right;\n",
              "    }\n",
              "</style>\n",
              "<table border=\"1\" class=\"dataframe\">\n",
              "  <thead>\n",
              "    <tr style=\"text-align: right;\">\n",
              "      <th>Predicted</th>\n",
              "      <th>0</th>\n",
              "      <th>1</th>\n",
              "      <th>All</th>\n",
              "    </tr>\n",
              "    <tr>\n",
              "      <th>True</th>\n",
              "      <th></th>\n",
              "      <th></th>\n",
              "      <th></th>\n",
              "    </tr>\n",
              "  </thead>\n",
              "  <tbody>\n",
              "    <tr>\n",
              "      <th>0</th>\n",
              "      <td>162119</td>\n",
              "      <td>1866</td>\n",
              "      <td>163985</td>\n",
              "    </tr>\n",
              "    <tr>\n",
              "      <th>1</th>\n",
              "      <td>3761</td>\n",
              "      <td>9724</td>\n",
              "      <td>13485</td>\n",
              "    </tr>\n",
              "    <tr>\n",
              "      <th>All</th>\n",
              "      <td>165880</td>\n",
              "      <td>11590</td>\n",
              "      <td>177470</td>\n",
              "    </tr>\n",
              "  </tbody>\n",
              "</table>\n",
              "</div>"
            ],
            "text/plain": [
              "Predicted       0      1     All\n",
              "True                            \n",
              "0          162119   1866  163985\n",
              "1            3761   9724   13485\n",
              "All        165880  11590  177470"
            ]
          },
          "metadata": {
            "tags": []
          },
          "execution_count": 47
        }
      ]
    },
    {
      "cell_type": "code",
      "metadata": {
        "id": "fCmQeVNg9_KP",
        "colab_type": "code",
        "outputId": "ff2d8b04-7968-4d0d-8ec6-c9b3e55ab576",
        "colab": {}
      },
      "source": [
        "accuracy_score(Y_test,Y_pred)"
      ],
      "execution_count": 0,
      "outputs": [
        {
          "output_type": "execute_result",
          "data": {
            "text/plain": [
              "0.968293232659041"
            ]
          },
          "metadata": {
            "tags": []
          },
          "execution_count": 48
        }
      ]
    },
    {
      "cell_type": "code",
      "metadata": {
        "id": "lPIksTok9_KQ",
        "colab_type": "code",
        "colab": {}
      },
      "source": [
        "from sklearn.ensemble import RandomForestClassifier\n",
        "rfc = RandomForestClassifier(n_estimators=600)\n",
        "rfc.fit(X_train,Y_train)\n",
        "RandomForestClassifier(bootstrap=True, class_weight=None, criterion='gini',\n",
        "            max_depth=None, max_features='auto', max_leaf_nodes=None,\n",
        "            min_impurity_decrease=0.0, min_impurity_split=None,\n",
        "            min_samples_leaf=1, min_samples_split=2,\n",
        "            min_weight_fraction_leaf=0.0, n_estimators=600, n_jobs=1,\n",
        "            oob_score=False, random_state=None, verbose=0,\n",
        "            warm_start=False)"
      ],
      "execution_count": 0,
      "outputs": []
    },
    {
      "cell_type": "code",
      "metadata": {
        "id": "1f_W6VRs9_KR",
        "colab_type": "code",
        "colab": {}
      },
      "source": [
        "Y_pred = rfc.predict(X_test)"
      ],
      "execution_count": 0,
      "outputs": []
    },
    {
      "cell_type": "code",
      "metadata": {
        "id": "H9Y1TaTj9_KS",
        "colab_type": "code",
        "colab": {}
      },
      "source": [
        "from sklearn.metrics import classification_report,confusion_matrix\n",
        "print(classification_report(Y_test,Y_pred))"
      ],
      "execution_count": 0,
      "outputs": []
    }
  ]
}